{
 "cells": [
  {
   "cell_type": "markdown",
   "metadata": {},
   "source": [
    "# Water Use in California\n",
    "\n",
    "For my capstone, I'm interested in investigating water usage in California.\n",
    "I'm interested in:\n",
    "- Changes in amounts of rainfall\n",
    "- Changes in allocation of water usage\n",
    "- Policy around allocation of water by county and by use\n",
    "\n",
    "<br>\n",
    "I am interested in predicting things like:\n",
    "- Future water availablility for landscaping\n",
    "- Future water availablility for farming\n",
    "\n",
    "<br>\n",
    "I am interested in visuals related to reservoir levels, groundwater, and preceipitation\n",
    "\n",
    "<br>\n",
    "I would like to conclude with:\n",
    "- Ideas for policies city, county, or statewide to save water"
   ]
  },
  {
   "cell_type": "markdown",
   "metadata": {},
   "source": [
    "### Possible Data Sources:\n",
    "I am exploring some of these possible data sources. I still have a lot of data to sift through. I don't yet have everything downloaded, I'm still working on it.\n",
    "\n",
    "[USGS Water Use](http://ca.water.usgs.gov/water_use/)\n",
    "<br>[cdec.water.CA.gov](http://cdec.water.ca.gov/)\n",
    "<br>[USGS 2010 CA Water Use](http://ca.water.usgs.gov/water_use/2010-california-water-use.html)\n",
    "\n",
    "\n",
    "\n",
    "I would love to try and get this in a non-pdf format:\n",
    "[CA Dams PDF](http://www.water.ca.gov/damsafety/docs/Jurisdictional2014.pdf)\n",
    "\n",
    "\n",
    "I have a lot left to look through."
   ]
  },
  {
   "cell_type": "markdown",
   "metadata": {},
   "source": [
    "### Concerns:"
   ]
  },
  {
   "cell_type": "markdown",
   "metadata": {
    "collapsed": true
   },
   "source": [
    "There is a lot out there about water and I am worried that although I am focusing on CA, not the entire US, but I still need to be careful that the scope of my project does not get out of control. I will need to investigate my data more before I get more specific about my goals, but I will "
   ]
  }
 ],
 "metadata": {
  "anaconda-cloud": {},
  "kernelspec": {
   "display_name": "Python [dsi]",
   "language": "python",
   "name": "Python [dsi]"
  },
  "language_info": {
   "codemirror_mode": {
    "name": "ipython",
    "version": 2
   },
   "file_extension": ".py",
   "mimetype": "text/x-python",
   "name": "python",
   "nbconvert_exporter": "python",
   "pygments_lexer": "ipython2",
   "version": "2.7.12"
  }
 },
 "nbformat": 4,
 "nbformat_minor": 1
}
