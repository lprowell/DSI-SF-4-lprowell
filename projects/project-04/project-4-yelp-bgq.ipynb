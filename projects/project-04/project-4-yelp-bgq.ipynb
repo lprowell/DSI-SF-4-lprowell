{
 "cells": [
  {
   "cell_type": "markdown",
   "metadata": {},
   "source": [
    "<img src=\"http://imgur.com/1ZcRyrc.png\" style=\"float: left; margin: 15px; height: 80px\">\n",
    "\n",
    "# Project 4\n",
    "\n",
    "###  Big Query, SQL, Classification\n",
    "\n",
    "---\n",
    "\n",
    "### The Data\n",
    "\n",
    "There are 5 individual tables that have the information, contained in a Google BigQuery database.  The setup info for BigQuery is located on our DSI wiki.  You will have to query with SQL, the dataset in order to complete this project.\n",
    "\n",
    "The tables, with cooresonding attributes that exist are:\n",
    "\n",
    "### businesses\n",
    "- business_id: unique business identifier\n",
    "- name: name of the business\n",
    "- review_count: number of reviews per business\n",
    "- city: city business resides in\n",
    "- stars: average rating\n",
    "- categories: categories the business falls into (can be one or multiple)\n",
    "- latitude\n",
    "- longitude\n",
    "- neighborhoods: neighborhoods business belongs to\n",
    "- variable: \"property\" of the business (a tag)\n",
    "- value: True/False for the property\n",
    "\n",
    "### reviews\n",
    "- user_id: unique user identifier\n",
    "- review_id: unique review identifier\n",
    "- votes.cool: how many thought the review was \"cool\"\n",
    "- business_id: unique business id the review is for\n",
    "- votes.funny: how many thought the review was funny\n",
    "- stars: rating given\n",
    "- date: date of review\n",
    "- votes.useful: how many thought the review was useful\n",
    "- ... 100 columns of counts of most common 2 word phrases that appear in reviews in this review\n",
    "\n",
    "### users\n",
    "- yelping_since: signup date\n",
    "- compliments.plain: # of compliments \"plain\"\n",
    "- review_count: # of reviews:\n",
    "- compliments.cute: total # of compliments \"cute\"\n",
    "- compliments.writer: # of compliments \"writer\"\n",
    "- compliments.note: # of compliments \"note\" (not sure what this is)\n",
    "- compliments.hot: # of compliments \"hot\" (?)\n",
    "- compliments.cool: # of compliments \"cool\"\n",
    "- compliments.profile: # of compliments \"profile\"\n",
    "- average_stars: average rating\n",
    "- compliments.more: # of compliments \"more\"\n",
    "- elite: years considered \"elite\"\n",
    "- name: user's name\n",
    "- user_id: unique user id\n",
    "- votes.cool: # of votes \"cool\"\n",
    "- compliments.list: # of compliments \"list\"\n",
    "- votes.funny: # of compliments \"funny\"\n",
    "- compliments.photos: # of compliments \"photos\"\n",
    "- compliments.funny: # of compliments \"funny\"\n",
    "- votes.useful: # of votes \"useful\"\n",
    "\n",
    "### checkins\n",
    "- business_id: unique business identifier\n",
    "- variable: day-time identifier of checkins (0-0 is Sunday 0:00 - 1:00am,  for example)\n",
    "- value: # of checkins at that time\n",
    "\n",
    "### tips\n",
    "- user_id: unique user identifier\n",
    "- business_id: unique business identifier\n",
    "- likes: likes that the tip has\n",
    "- date: date of tip\n",
    "- ... 100 columns of counts of most common 2 word phrases that appear in tips in this tip\n",
    "\n",
    "\n",
    "The reviews and tips datasets in particular have parsed \"NLP\" columns with counts of 2-word phrases in that review or tip (a \"tip\", it seems, is some kind of smaller review).\n",
    "\n",
    "The user dataset has a lot of columns of counts of different compliments and votes. We're not sure whether the compliments or votes are by the user or for the user.\n",
    "\n",
    "Full details about this dataset area located here:\n",
    "https://bigquery.cloud.google.com/dataset/bigquery-dsi-dave:yelp_arizona\n",
    "\n",
    "---\n",
    "\n",
    "\n",
    "If you look at the website, or the full data, you'll see I have removed pieces of the data and cut it down quite a bit. This is to simplify it for this project. Specifically, business are limited to be in these cities:\n",
    "\n",
    "- Phoenix\n",
    "- Surprise\n",
    "- Las Vegas\n",
    "- Waterloo\n",
    "\n",
    "Apparently there is a city called \"Surprise\" in Arizona. \n",
    "\n",
    "Businesses are also restricted to at least be in one of the following categories, because we thought the mix of them was funny:\n",
    "\n",
    "- Airports\n",
    "- Breakfast & Brunch\n",
    "- Bubble Tea\n",
    "- Burgers\n",
    "- Bars\n",
    "- Bakeries\n",
    "- Breweries\n",
    "- Cafes\n",
    "- Candy Stores\n",
    "- Comedy Clubs\n",
    "- Courthouses\n",
    "- Dance Clubs\n",
    "- Fast Food\n",
    "- Museums\n",
    "- Tattoo\n",
    "- Vape Shops\n",
    "- Yoga\n",
    "    \n",
    "---\n",
    "\n",
    "### Project requirements\n",
    "\n",
    "**You will be performing 4 different sections of analysis, like in the last project.**\n",
    "\n",
    "Remember that classification targets are categorical and regression targets are continuous variables."
   ]
  },
  {
   "cell_type": "markdown",
   "metadata": {},
   "source": [
    "<img src=\"http://imgur.com/l5NasQj.png\" style=\"float: left; margin: 25px 15px 0px 0px; height: 25px\">\n",
    "\n",
    "## 1. Load your dataset(s) / setup / configure GBQ connection\n",
    "\n",
    "---\n",
    "\n",
    "Information about this dataset is located here:\n",
    "\n",
    "\n",
    "**If you haven't done so, setup a project with the Google developer portal, following the directions here: [Getting Started with BigQuery](https://github.com/ga-students/DSI-SF-4/wiki/Getting-Started-with-BigQuery)**\n"
   ]
  },
  {
   "cell_type": "code",
   "execution_count": 104,
   "metadata": {
    "collapsed": true
   },
   "outputs": [],
   "source": [
    "import pandas as pd\n",
    "import seaborn as sns\n",
    "import numpy as np\n",
    "import matplotlib.pyplot as plt\n",
    "import seaborn as sns\n",
    "\n",
    "%matplotlib inline"
   ]
  },
  {
   "cell_type": "code",
   "execution_count": 2,
   "metadata": {
    "collapsed": false
   },
   "outputs": [
    {
     "name": "stdout",
     "output_type": "stream",
     "text": [
      "Requesting query... ok.\n",
      "Query running...\n",
      "Query done.\n",
      "Cache hit.\n",
      "\n",
      "Retrieving results...\n",
      "  Got page: 1; 21.0% done. Elapsed 7.85 s.\n",
      "  Got page: 2; 42.0% done. Elapsed 13.35 s.\n",
      "  Got page: 3; 62.0% done. Elapsed 19.42 s.\n",
      "  Got page: 4; 83.0% done. Elapsed 25.94 s.\n",
      "  Got page: 5; 100.0% done. Elapsed 31.72 s.\n",
      "Got 152832 rows.\n",
      "\n",
      "Total time taken 40.25 s.\n",
      "Finished at 2016-12-19 20:03:37.\n"
     ]
    }
   ],
   "source": [
    "project_id = \"bigquery-dsi-laura\"\n",
    "\n",
    "sql = \"\"\"\n",
    "SELECT * FROM [bigquery-dsi-dave:yelp_arizona.businesses] \n",
    "\"\"\"\n",
    "\n",
    "businesses = pd.read_gbq(sql, project_id=project_id)"
   ]
  },
  {
   "cell_type": "code",
   "execution_count": 4,
   "metadata": {
    "collapsed": false
   },
   "outputs": [],
   "source": [
    "# I did this so I didn't have to keep running the queries \n",
    "# every time I restart jupyter to work on my project.\n",
    "\n",
    "businesses.to_csv('businesses.csv', encoding = 'utf-8')"
   ]
  },
  {
   "cell_type": "code",
   "execution_count": 3,
   "metadata": {
    "collapsed": false
   },
   "outputs": [
    {
     "name": "stdout",
     "output_type": "stream",
     "text": [
      "Requesting query... ok.\n",
      "Query running...\n",
      "Query done.\n",
      "Processed: 15.2 Mb\n",
      "\n",
      "Retrieving results...\n",
      "  Got page: 1; 12.0% done. Elapsed 10.07 s.\n",
      "  Got page: 2; 23.0% done. Elapsed 15.1 s.\n",
      "  Got page: 3; 35.0% done. Elapsed 20.11 s.\n",
      "  Got page: 4; 46.0% done. Elapsed 25.98 s.\n",
      "  Got page: 5; 58.0% done. Elapsed 30.96 s.\n",
      "  Got page: 6; 69.0% done. Elapsed 35.97 s.\n",
      "  Got page: 7; 81.0% done. Elapsed 40.51 s.\n",
      "  Got page: 8; 92.0% done. Elapsed 46.61 s.\n",
      "  Got page: 9; 100.0% done. Elapsed 50.14 s.\n",
      "Got 144206 rows.\n",
      "\n",
      "Total time taken 63.36 s.\n",
      "Finished at 2016-12-19 20:29:29.\n"
     ]
    }
   ],
   "source": [
    "project_id = \"bigquery-dsi-laura\"\n",
    "\n",
    "sql = \"\"\"\n",
    "SELECT * FROM [bigquery-dsi-dave:yelp_arizona.users] \n",
    "\"\"\"\n",
    "\n",
    "users = pd.read_gbq(sql, project_id=project_id)"
   ]
  },
  {
   "cell_type": "code",
   "execution_count": 4,
   "metadata": {
    "collapsed": true
   },
   "outputs": [],
   "source": [
    "users.to_csv('users.csv', encoding = 'utf-8')"
   ]
  },
  {
   "cell_type": "code",
   "execution_count": 6,
   "metadata": {
    "collapsed": false
   },
   "outputs": [
    {
     "name": "stdout",
     "output_type": "stream",
     "text": [
      "Requesting query... ok.\n",
      "Query running...\n",
      "Query done.\n",
      "Cache hit.\n",
      "\n",
      "Retrieving results...\n",
      "  Got page: 2; 2.0% done. Elapsed 13.84 s.\n",
      "  Got page: 3; 3.0% done. Elapsed 19.05 s.\n",
      "  Got page: 4; 4.0% done. Elapsed 25.89 s.\n",
      "  Got page: 5; 5.0% done. Elapsed 31.86 s.\n",
      "  Got page: 6; 6.0% done. Elapsed 37.1 s.\n",
      "  Got page: 7; 7.0% done. Elapsed 42.87 s.\n",
      "  Got page: 8; 8.0% done. Elapsed 49.44 s.\n",
      "  Got page: 9; 9.0% done. Elapsed 55.91 s.\n",
      "  Got page: 10; 10.0% done. Elapsed 64.11 s.\n",
      "  Got page: 11; 11.0% done. Elapsed 71.81 s.\n",
      "  Got page: 12; 12.0% done. Elapsed 77.79 s.\n",
      "  Got page: 13; 13.0% done. Elapsed 85.95 s.\n",
      "  Got page: 14; 14.0% done. Elapsed 92.11 s.\n",
      "  Got page: 15; 15.0% done. Elapsed 98.34 s.\n",
      "  Got page: 16; 16.0% done. Elapsed 104.3 s.\n",
      "  Got page: 17; 17.0% done. Elapsed 110.04 s.\n",
      "  Got page: 18; 18.0% done. Elapsed 115.11 s.\n",
      "  Got page: 19; 19.0% done. Elapsed 122.88 s.\n",
      "  Got page: 20; 20.0% done. Elapsed 135.9 s.\n",
      "  Got page: 21; 21.0% done. Elapsed 140.91 s.\n",
      "  Got page: 22; 22.0% done. Elapsed 146.73 s.\n",
      "  Got page: 23; 23.0% done. Elapsed 153.81 s.\n",
      "  Got page: 24; 24.0% done. Elapsed 160.61 s.\n",
      "  Got page: 25; 25.0% done. Elapsed 166.35 s.\n",
      "  Got page: 26; 26.0% done. Elapsed 172.82 s.\n",
      "  Got page: 27; 27.0% done. Elapsed 179.43 s.\n",
      "  Got page: 28; 28.0% done. Elapsed 185.46 s.\n",
      "  Got page: 29; 29.0% done. Elapsed 201.88 s.\n",
      "  Got page: 30; 30.0% done. Elapsed 207.05 s.\n",
      "  Got page: 31; 31.0% done. Elapsed 212.29 s.\n",
      "  Got page: 32; 32.0% done. Elapsed 219.59 s.\n",
      "  Got page: 33; 33.0% done. Elapsed 226.05 s.\n",
      "  Got page: 34; 34.0% done. Elapsed 232.24 s.\n",
      "  Got page: 35; 35.0% done. Elapsed 239.37 s.\n",
      "  Got page: 36; 36.0% done. Elapsed 244.58 s.\n",
      "  Got page: 37; 37.0% done. Elapsed 250.6 s.\n",
      "  Got page: 38; 38.0% done. Elapsed 257.09 s.\n",
      "  Got page: 39; 39.0% done. Elapsed 262.73 s.\n",
      "  Got page: 40; 40.0% done. Elapsed 284.82 s.\n",
      "  Got page: 41; 41.0% done. Elapsed 291.67 s.\n",
      "  Got page: 42; 42.0% done. Elapsed 297.92 s.\n",
      "  Got page: 43; 43.0% done. Elapsed 304.11 s.\n",
      "  Got page: 44; 44.0% done. Elapsed 310.14 s.\n",
      "  Got page: 45; 45.0% done. Elapsed 316.79 s.\n",
      "  Got page: 46; 46.0% done. Elapsed 323.45 s.\n",
      "  Got page: 47; 47.0% done. Elapsed 329.84 s.\n",
      "  Got page: 48; 48.0% done. Elapsed 336.22 s.\n",
      "  Got page: 49; 49.0% done. Elapsed 343.86 s.\n",
      "  Got page: 50; 50.0% done. Elapsed 349.5 s.\n",
      "  Got page: 51; 51.0% done. Elapsed 355.68 s.\n",
      "  Got page: 52; 52.0% done. Elapsed 362.55 s.\n",
      "  Got page: 53; 53.0% done. Elapsed 391.92 s.\n",
      "  Got page: 54; 54.0% done. Elapsed 398.04 s.\n",
      "  Got page: 55; 55.0% done. Elapsed 405.08 s.\n",
      "  Got page: 56; 56.0% done. Elapsed 411.64 s.\n",
      "  Got page: 57; 57.0% done. Elapsed 417.78 s.\n",
      "  Got page: 58; 58.0% done. Elapsed 424.45 s.\n",
      "  Got page: 59; 59.0% done. Elapsed 430.38 s.\n",
      "  Got page: 60; 60.0% done. Elapsed 438.34 s.\n",
      "  Got page: 61; 61.0% done. Elapsed 445.02 s.\n",
      "  Got page: 62; 62.0% done. Elapsed 450.84 s.\n",
      "  Got page: 63; 63.0% done. Elapsed 458.23 s.\n",
      "  Got page: 64; 64.0% done. Elapsed 465.54 s.\n",
      "  Got page: 65; 65.0% done. Elapsed 471.44 s.\n",
      "  Got page: 66; 66.0% done. Elapsed 477.94 s.\n",
      "  Got page: 67; 67.0% done. Elapsed 485.14 s.\n",
      "  Got page: 68; 68.0% done. Elapsed 491.24 s.\n",
      "  Got page: 69; 69.0% done. Elapsed 498.52 s.\n",
      "  Got page: 70; 70.0% done. Elapsed 536.06 s.\n",
      "  Got page: 71; 71.0% done. Elapsed 542.47 s.\n",
      "  Got page: 72; 72.0% done. Elapsed 550.28 s.\n",
      "  Got page: 73; 73.0% done. Elapsed 555.94 s.\n",
      "  Got page: 74; 74.0% done. Elapsed 562.14 s.\n",
      "  Got page: 75; 75.0% done. Elapsed 569.61 s.\n",
      "  Got page: 76; 76.0% done. Elapsed 577.78 s.\n",
      "  Got page: 77; 77.0% done. Elapsed 584.28 s.\n",
      "  Got page: 78; 78.0% done. Elapsed 591.95 s.\n",
      "  Got page: 79; 79.0% done. Elapsed 599.83 s.\n",
      "  Got page: 80; 80.0% done. Elapsed 606.75 s.\n",
      "  Got page: 81; 81.0% done. Elapsed 614.47 s.\n",
      "  Got page: 82; 82.0% done. Elapsed 620.67 s.\n",
      "  Got page: 83; 83.0% done. Elapsed 629.29 s.\n",
      "  Got page: 84; 84.0% done. Elapsed 635.01 s.\n",
      "  Got page: 85; 85.0% done. Elapsed 642.12 s.\n",
      "  Got page: 86; 86.0% done. Elapsed 648.17 s.\n",
      "  Got page: 87; 87.0% done. Elapsed 657.59 s.\n",
      "  Got page: 88; 88.0% done. Elapsed 665.01 s.\n",
      "  Got page: 89; 89.0% done. Elapsed 670.71 s.\n",
      "  Got page: 90; 90.0% done. Elapsed 677.11 s.\n",
      "  Got page: 91; 91.0% done. Elapsed 737.53 s.\n",
      "  Got page: 92; 92.0% done. Elapsed 753.54 s.\n",
      "  Got page: 93; 93.0% done. Elapsed 759.95 s.\n",
      "  Got page: 94; 94.0% done. Elapsed 767.03 s.\n",
      "  Got page: 95; 95.0% done. Elapsed 774.92 s.\n",
      "  Got page: 96; 96.0% done. Elapsed 782.23 s.\n",
      "  Got page: 97; 97.0% done. Elapsed 789.55 s.\n",
      "  Got page: 98; 98.0% done. Elapsed 797.23 s.\n",
      "  Got page: 99; 99.0% done. Elapsed 804.91 s.\n",
      "  Got page: 100; 100.0% done. Elapsed 809.35 s.\n",
      "Got 322398 rows.\n",
      "\n",
      "Total time taken 1016.18 s.\n",
      "Finished at 2016-12-19 20:48:41.\n"
     ]
    }
   ],
   "source": [
    "project_id = \"bigquery-dsi-laura\"\n",
    "\n",
    "sql = \"\"\"\n",
    "SELECT * FROM [bigquery-dsi-dave:yelp_arizona.reviews] \n",
    "\"\"\"\n",
    "\n",
    "reviews = pd.read_gbq(sql, project_id=project_id)"
   ]
  },
  {
   "cell_type": "code",
   "execution_count": 7,
   "metadata": {
    "collapsed": true
   },
   "outputs": [],
   "source": [
    "reviews.to_csv('reviews.csv', encoding = 'utf-8')"
   ]
  },
  {
   "cell_type": "markdown",
   "metadata": {},
   "source": [
    "<img src=\"http://imgur.com/l5NasQj.png\" style=\"float: left; margin: 25px 15px 0px 0px; height: 25px\">\n",
    "\n",
    "## 2. Constructing a \"profile\" for Las Vegas\n",
    "\n",
    "---\n",
    "\n",
    "Yelp is interested in building out what they are calling \"profiles\" for cities. They want you to start with just Las Vegas to see what a prototype of this would look like. Essentially, they want to know what makes Las Vegas distinct from the other four.\n",
    "\n",
    "Use the data you have to predict Las Vegas from the other variables you have. You should not be predicting the city from any kind of location data or other data perfectly associated with that city (or another city).\n",
    "\n",
    "You may use any classification algorithm you deem appropriate, or even multiple models. You should:\n",
    "\n",
    "1. Build at least one model predicting Las Vegas vs. the other cities.\n",
    "- Validate your model(s).\n",
    "- Interpret and visualize, in some way, the results.\n",
    "- Write up a \"profile\" for Las Vegas. This should be a writeup converting your findings from the model(s) into a human-readable description of the city.\n",
    "\n",
    "*Research location data to find the city targets.*"
   ]
  },
  {
   "cell_type": "code",
   "execution_count": 55,
   "metadata": {
    "collapsed": true
   },
   "outputs": [],
   "source": [
    "businesses = pd.read_csv('businesses.csv')"
   ]
  },
  {
   "cell_type": "code",
   "execution_count": 56,
   "metadata": {
    "collapsed": false
   },
   "outputs": [
    {
     "data": {
      "text/plain": [
       "Index([u'Unnamed: 0', u'business_id', u'name', u'review_count', u'city',\n",
       "       u'stars', u'categories', u'latitude', u'longitude', u'neighborhoods',\n",
       "       u'variable', u'value'],\n",
       "      dtype='object')"
      ]
     },
     "execution_count": 56,
     "metadata": {},
     "output_type": "execute_result"
    }
   ],
   "source": [
    "businesses.columns"
   ]
  },
  {
   "cell_type": "code",
   "execution_count": 57,
   "metadata": {
    "collapsed": false
   },
   "outputs": [
    {
     "data": {
      "text/html": [
       "<div>\n",
       "<table border=\"1\" class=\"dataframe\">\n",
       "  <thead>\n",
       "    <tr style=\"text-align: right;\">\n",
       "      <th></th>\n",
       "      <th>Unnamed: 0</th>\n",
       "      <th>business_id</th>\n",
       "      <th>name</th>\n",
       "      <th>review_count</th>\n",
       "      <th>city</th>\n",
       "      <th>stars</th>\n",
       "      <th>categories</th>\n",
       "      <th>latitude</th>\n",
       "      <th>longitude</th>\n",
       "      <th>neighborhoods</th>\n",
       "      <th>variable</th>\n",
       "      <th>value</th>\n",
       "    </tr>\n",
       "  </thead>\n",
       "  <tbody>\n",
       "    <tr>\n",
       "      <th>0</th>\n",
       "      <td>0</td>\n",
       "      <td>XziiAJUc8cgj3McljtnYVw</td>\n",
       "      <td>Johnny Rockets</td>\n",
       "      <td>39</td>\n",
       "      <td>Las Vegas</td>\n",
       "      <td>3.0</td>\n",
       "      <td>['Burgers', 'American (Traditional)', 'Sandwic...</td>\n",
       "      <td>36.114471</td>\n",
       "      <td>-115.169292</td>\n",
       "      <td>['The Strip']</td>\n",
       "      <td>attributes.Ambience.trendy</td>\n",
       "      <td>False</td>\n",
       "    </tr>\n",
       "    <tr>\n",
       "      <th>1</th>\n",
       "      <td>1</td>\n",
       "      <td>XziiAJUc8cgj3McljtnYVw</td>\n",
       "      <td>Johnny Rockets</td>\n",
       "      <td>39</td>\n",
       "      <td>Las Vegas</td>\n",
       "      <td>3.0</td>\n",
       "      <td>['Burgers', 'American (Traditional)', 'Sandwic...</td>\n",
       "      <td>36.114471</td>\n",
       "      <td>-115.169292</td>\n",
       "      <td>['The Strip']</td>\n",
       "      <td>hours.Wednesday.close</td>\n",
       "      <td>False</td>\n",
       "    </tr>\n",
       "    <tr>\n",
       "      <th>2</th>\n",
       "      <td>2</td>\n",
       "      <td>XziiAJUc8cgj3McljtnYVw</td>\n",
       "      <td>Johnny Rockets</td>\n",
       "      <td>39</td>\n",
       "      <td>Las Vegas</td>\n",
       "      <td>3.0</td>\n",
       "      <td>['Burgers', 'American (Traditional)', 'Sandwic...</td>\n",
       "      <td>36.114471</td>\n",
       "      <td>-115.169292</td>\n",
       "      <td>['The Strip']</td>\n",
       "      <td>hours.Monday.close</td>\n",
       "      <td>False</td>\n",
       "    </tr>\n",
       "  </tbody>\n",
       "</table>\n",
       "</div>"
      ],
      "text/plain": [
       "   Unnamed: 0             business_id            name  review_count  \\\n",
       "0           0  XziiAJUc8cgj3McljtnYVw  Johnny Rockets            39   \n",
       "1           1  XziiAJUc8cgj3McljtnYVw  Johnny Rockets            39   \n",
       "2           2  XziiAJUc8cgj3McljtnYVw  Johnny Rockets            39   \n",
       "\n",
       "        city  stars                                         categories  \\\n",
       "0  Las Vegas    3.0  ['Burgers', 'American (Traditional)', 'Sandwic...   \n",
       "1  Las Vegas    3.0  ['Burgers', 'American (Traditional)', 'Sandwic...   \n",
       "2  Las Vegas    3.0  ['Burgers', 'American (Traditional)', 'Sandwic...   \n",
       "\n",
       "    latitude   longitude  neighborhoods                    variable  value  \n",
       "0  36.114471 -115.169292  ['The Strip']  attributes.Ambience.trendy  False  \n",
       "1  36.114471 -115.169292  ['The Strip']       hours.Wednesday.close  False  \n",
       "2  36.114471 -115.169292  ['The Strip']          hours.Monday.close  False  "
      ]
     },
     "execution_count": 57,
     "metadata": {},
     "output_type": "execute_result"
    }
   ],
   "source": [
    "businesses.head(3)"
   ]
  },
  {
   "cell_type": "code",
   "execution_count": 58,
   "metadata": {
    "collapsed": false
   },
   "outputs": [
    {
     "name": "stdout",
     "output_type": "stream",
     "text": [
      "<class 'pandas.core.frame.DataFrame'>\n",
      "RangeIndex: 152832 entries, 0 to 152831\n",
      "Data columns (total 12 columns):\n",
      "Unnamed: 0       152832 non-null int64\n",
      "business_id      152832 non-null object\n",
      "name             152832 non-null object\n",
      "review_count     152832 non-null int64\n",
      "city             152832 non-null object\n",
      "stars            152832 non-null float64\n",
      "categories       152832 non-null object\n",
      "latitude         152832 non-null float64\n",
      "longitude        152832 non-null float64\n",
      "neighborhoods    152832 non-null object\n",
      "variable         152832 non-null object\n",
      "value            152832 non-null bool\n",
      "dtypes: bool(1), float64(3), int64(2), object(6)\n",
      "memory usage: 13.0+ MB\n"
     ]
    }
   ],
   "source": [
    "businesses.info()"
   ]
  },
  {
   "cell_type": "code",
   "execution_count": 59,
   "metadata": {
    "collapsed": false
   },
   "outputs": [
    {
     "data": {
      "text/plain": [
       "False    117899\n",
       "True      34933\n",
       "Name: value, dtype: int64"
      ]
     },
     "execution_count": 59,
     "metadata": {},
     "output_type": "execute_result"
    }
   ],
   "source": [
    "businesses['value'].value_counts()"
   ]
  },
  {
   "cell_type": "code",
   "execution_count": 60,
   "metadata": {
    "collapsed": false
   },
   "outputs": [
    {
     "data": {
      "text/plain": [
       "open                                           4132\n",
       "attributes.Accepts Credit Cards                3896\n",
       "attributes.Price Range                         3843\n",
       "attributes.Parking.valet                       3427\n",
       "attributes.Parking.street                      3427\n",
       "attributes.Parking.validated                   3427\n",
       "attributes.Parking.garage                      3427\n",
       "attributes.Parking.lot                         3427\n",
       "attributes.Good For Groups                     3362\n",
       "attributes.Outdoor Seating                     3267\n",
       "attributes.Has TV                              3084\n",
       "attributes.Alcohol                             3050\n",
       "attributes.Good for Kids                       2909\n",
       "attributes.Ambience.trendy                     2873\n",
       "attributes.Ambience.touristy                   2873\n",
       "attributes.Ambience.classy                     2873\n",
       "attributes.Ambience.romantic                   2873\n",
       "attributes.Ambience.intimate                   2873\n",
       "attributes.Ambience.casual                     2873\n",
       "attributes.Ambience.hipster                    2871\n",
       "attributes.Ambience.upscale                    2866\n",
       "attributes.Ambience.divey                      2864\n",
       "attributes.Noise Level                         2805\n",
       "attributes.Delivery                            2777\n",
       "attributes.Take-out                            2667\n",
       "attributes.Takes Reservations                  2653\n",
       "attributes.Attire                              2650\n",
       "hours.Friday.close                             2518\n",
       "hours.Friday.open                              2518\n",
       "attributes.Good For.breakfast                  2508\n",
       "                                               ... \n",
       "attributes.Wi-Fi                               2176\n",
       "attributes.Caters                              2050\n",
       "attributes.Wheelchair Accessible               1926\n",
       "attributes.Happy Hour                          1321\n",
       "attributes.Good For Dancing                    1277\n",
       "attributes.Drive-Thru                          1274\n",
       "attributes.Coat Check                          1260\n",
       "attributes.Smoking                             1187\n",
       "attributes.Music.dj                            1052\n",
       "attributes.Music.jukebox                        749\n",
       "attributes.Music.live                           709\n",
       "attributes.Music.video                          657\n",
       "attributes.Music.karaoke                        414\n",
       "attributes.Music.background_music               406\n",
       "attributes.Dogs Allowed                         378\n",
       "attributes.BYOB/Corkage                         159\n",
       "attributes.By Appointment Only                  135\n",
       "attributes.BYOB                                 106\n",
       "attributes.Ages Allowed                         101\n",
       "attributes.Corkage                              100\n",
       "attributes.Order at Counter                      62\n",
       "attributes.Open 24 Hours                         54\n",
       "attributes.Accepts Insurance                      7\n",
       "attributes.Dietary Restrictions.vegan             5\n",
       "attributes.Dietary Restrictions.gluten-free       5\n",
       "attributes.Dietary Restrictions.vegetarian        5\n",
       "attributes.Dietary Restrictions.halal             5\n",
       "attributes.Dietary Restrictions.soy-free          5\n",
       "attributes.Dietary Restrictions.kosher            5\n",
       "attributes.Dietary Restrictions.dairy-free        5\n",
       "Name: variable, dtype: int64"
      ]
     },
     "execution_count": 60,
     "metadata": {},
     "output_type": "execute_result"
    }
   ],
   "source": [
    "businesses['variable'].value_counts()"
   ]
  },
  {
   "cell_type": "code",
   "execution_count": 61,
   "metadata": {
    "collapsed": true
   },
   "outputs": [],
   "source": [
    "cols = ['business_id', 'name', 'review_count', 'city', 'stars', 'categories']"
   ]
  },
  {
   "cell_type": "code",
   "execution_count": 62,
   "metadata": {
    "collapsed": false
   },
   "outputs": [],
   "source": [
    "businesses_wide = pd.pivot_table(businesses, index=cols, columns=['variable'], values = 'value')"
   ]
  },
  {
   "cell_type": "code",
   "execution_count": 63,
   "metadata": {
    "collapsed": false
   },
   "outputs": [],
   "source": [
    "businesses_wide = businesses_wide.reset_index()"
   ]
  },
  {
   "cell_type": "code",
   "execution_count": 64,
   "metadata": {
    "collapsed": false
   },
   "outputs": [
    {
     "data": {
      "text/html": [
       "<div>\n",
       "<table border=\"1\" class=\"dataframe\">\n",
       "  <thead>\n",
       "    <tr style=\"text-align: right;\">\n",
       "      <th>variable</th>\n",
       "      <th>business_id</th>\n",
       "      <th>name</th>\n",
       "      <th>review_count</th>\n",
       "      <th>city</th>\n",
       "      <th>stars</th>\n",
       "      <th>categories</th>\n",
       "      <th>attributes.Accepts Credit Cards</th>\n",
       "      <th>attributes.Accepts Insurance</th>\n",
       "      <th>attributes.Ages Allowed</th>\n",
       "      <th>attributes.Alcohol</th>\n",
       "      <th>...</th>\n",
       "      <th>hours.Saturday.open</th>\n",
       "      <th>hours.Sunday.close</th>\n",
       "      <th>hours.Sunday.open</th>\n",
       "      <th>hours.Thursday.close</th>\n",
       "      <th>hours.Thursday.open</th>\n",
       "      <th>hours.Tuesday.close</th>\n",
       "      <th>hours.Tuesday.open</th>\n",
       "      <th>hours.Wednesday.close</th>\n",
       "      <th>hours.Wednesday.open</th>\n",
       "      <th>open</th>\n",
       "    </tr>\n",
       "  </thead>\n",
       "  <tbody>\n",
       "    <tr>\n",
       "      <th>0</th>\n",
       "      <td>--jFTZmywe7StuZ2hEjxyA</td>\n",
       "      <td>Subway</td>\n",
       "      <td>7</td>\n",
       "      <td>Las Vegas</td>\n",
       "      <td>3.5</td>\n",
       "      <td>['Fast Food', 'Sandwiches', 'Restaurants']</td>\n",
       "      <td>True</td>\n",
       "      <td>None</td>\n",
       "      <td>None</td>\n",
       "      <td>False</td>\n",
       "      <td>...</td>\n",
       "      <td>None</td>\n",
       "      <td>None</td>\n",
       "      <td>None</td>\n",
       "      <td>None</td>\n",
       "      <td>None</td>\n",
       "      <td>None</td>\n",
       "      <td>None</td>\n",
       "      <td>None</td>\n",
       "      <td>None</td>\n",
       "      <td>True</td>\n",
       "    </tr>\n",
       "    <tr>\n",
       "      <th>1</th>\n",
       "      <td>-0HGqwlfw3I8nkJyMHxAsQ</td>\n",
       "      <td>McDonald's</td>\n",
       "      <td>9</td>\n",
       "      <td>Phoenix</td>\n",
       "      <td>3.0</td>\n",
       "      <td>['Burgers', 'Fast Food', 'Restaurants']</td>\n",
       "      <td>True</td>\n",
       "      <td>None</td>\n",
       "      <td>None</td>\n",
       "      <td>False</td>\n",
       "      <td>...</td>\n",
       "      <td>None</td>\n",
       "      <td>None</td>\n",
       "      <td>None</td>\n",
       "      <td>None</td>\n",
       "      <td>None</td>\n",
       "      <td>None</td>\n",
       "      <td>None</td>\n",
       "      <td>None</td>\n",
       "      <td>None</td>\n",
       "      <td>True</td>\n",
       "    </tr>\n",
       "    <tr>\n",
       "      <th>2</th>\n",
       "      <td>-0VK5Z1BfUHUYq4PoBYNLw</td>\n",
       "      <td>T Spot</td>\n",
       "      <td>5</td>\n",
       "      <td>Las Vegas</td>\n",
       "      <td>3.5</td>\n",
       "      <td>['Bars', 'Nightlife', 'Lounges']</td>\n",
       "      <td>True</td>\n",
       "      <td>None</td>\n",
       "      <td>None</td>\n",
       "      <td>False</td>\n",
       "      <td>...</td>\n",
       "      <td>None</td>\n",
       "      <td>None</td>\n",
       "      <td>None</td>\n",
       "      <td>None</td>\n",
       "      <td>None</td>\n",
       "      <td>None</td>\n",
       "      <td>None</td>\n",
       "      <td>None</td>\n",
       "      <td>None</td>\n",
       "      <td>True</td>\n",
       "    </tr>\n",
       "  </tbody>\n",
       "</table>\n",
       "<p>3 rows × 84 columns</p>\n",
       "</div>"
      ],
      "text/plain": [
       "variable             business_id        name  review_count       city  stars  \\\n",
       "0         --jFTZmywe7StuZ2hEjxyA      Subway             7  Las Vegas    3.5   \n",
       "1         -0HGqwlfw3I8nkJyMHxAsQ  McDonald's             9    Phoenix    3.0   \n",
       "2         -0VK5Z1BfUHUYq4PoBYNLw      T Spot             5  Las Vegas    3.5   \n",
       "\n",
       "variable                                  categories  \\\n",
       "0         ['Fast Food', 'Sandwiches', 'Restaurants']   \n",
       "1            ['Burgers', 'Fast Food', 'Restaurants']   \n",
       "2                   ['Bars', 'Nightlife', 'Lounges']   \n",
       "\n",
       "variable attributes.Accepts Credit Cards attributes.Accepts Insurance  \\\n",
       "0                                   True                         None   \n",
       "1                                   True                         None   \n",
       "2                                   True                         None   \n",
       "\n",
       "variable attributes.Ages Allowed attributes.Alcohol  ...  hours.Saturday.open  \\\n",
       "0                           None              False  ...                 None   \n",
       "1                           None              False  ...                 None   \n",
       "2                           None              False  ...                 None   \n",
       "\n",
       "variable hours.Sunday.close hours.Sunday.open hours.Thursday.close  \\\n",
       "0                      None              None                 None   \n",
       "1                      None              None                 None   \n",
       "2                      None              None                 None   \n",
       "\n",
       "variable hours.Thursday.open hours.Tuesday.close hours.Tuesday.open  \\\n",
       "0                       None                None               None   \n",
       "1                       None                None               None   \n",
       "2                       None                None               None   \n",
       "\n",
       "variable hours.Wednesday.close hours.Wednesday.open  open  \n",
       "0                         None                 None  True  \n",
       "1                         None                 None  True  \n",
       "2                         None                 None  True  \n",
       "\n",
       "[3 rows x 84 columns]"
      ]
     },
     "execution_count": 64,
     "metadata": {},
     "output_type": "execute_result"
    }
   ],
   "source": [
    "businesses_wide.head(3)"
   ]
  },
  {
   "cell_type": "code",
   "execution_count": 65,
   "metadata": {
    "collapsed": true
   },
   "outputs": [],
   "source": [
    "# I would rather have 0's and 1's than True's and False's\n",
    "\n",
    "\n",
    "businesses_wide = businesses_wide * 1"
   ]
  },
  {
   "cell_type": "code",
   "execution_count": 66,
   "metadata": {
    "collapsed": false
   },
   "outputs": [
    {
     "data": {
      "text/html": [
       "<div>\n",
       "<table border=\"1\" class=\"dataframe\">\n",
       "  <thead>\n",
       "    <tr style=\"text-align: right;\">\n",
       "      <th>variable</th>\n",
       "      <th>business_id</th>\n",
       "      <th>name</th>\n",
       "      <th>review_count</th>\n",
       "      <th>city</th>\n",
       "      <th>stars</th>\n",
       "      <th>categories</th>\n",
       "      <th>attributes.Accepts Credit Cards</th>\n",
       "      <th>attributes.Accepts Insurance</th>\n",
       "      <th>attributes.Ages Allowed</th>\n",
       "      <th>attributes.Alcohol</th>\n",
       "      <th>...</th>\n",
       "      <th>hours.Saturday.open</th>\n",
       "      <th>hours.Sunday.close</th>\n",
       "      <th>hours.Sunday.open</th>\n",
       "      <th>hours.Thursday.close</th>\n",
       "      <th>hours.Thursday.open</th>\n",
       "      <th>hours.Tuesday.close</th>\n",
       "      <th>hours.Tuesday.open</th>\n",
       "      <th>hours.Wednesday.close</th>\n",
       "      <th>hours.Wednesday.open</th>\n",
       "      <th>open</th>\n",
       "    </tr>\n",
       "  </thead>\n",
       "  <tbody>\n",
       "    <tr>\n",
       "      <th>0</th>\n",
       "      <td>--jFTZmywe7StuZ2hEjxyA</td>\n",
       "      <td>Subway</td>\n",
       "      <td>7</td>\n",
       "      <td>Las Vegas</td>\n",
       "      <td>3.5</td>\n",
       "      <td>['Fast Food', 'Sandwiches', 'Restaurants']</td>\n",
       "      <td>1</td>\n",
       "      <td>NaN</td>\n",
       "      <td>NaN</td>\n",
       "      <td>0</td>\n",
       "      <td>...</td>\n",
       "      <td>NaN</td>\n",
       "      <td>NaN</td>\n",
       "      <td>NaN</td>\n",
       "      <td>NaN</td>\n",
       "      <td>NaN</td>\n",
       "      <td>NaN</td>\n",
       "      <td>NaN</td>\n",
       "      <td>NaN</td>\n",
       "      <td>NaN</td>\n",
       "      <td>1</td>\n",
       "    </tr>\n",
       "    <tr>\n",
       "      <th>1</th>\n",
       "      <td>-0HGqwlfw3I8nkJyMHxAsQ</td>\n",
       "      <td>McDonald's</td>\n",
       "      <td>9</td>\n",
       "      <td>Phoenix</td>\n",
       "      <td>3.0</td>\n",
       "      <td>['Burgers', 'Fast Food', 'Restaurants']</td>\n",
       "      <td>1</td>\n",
       "      <td>NaN</td>\n",
       "      <td>NaN</td>\n",
       "      <td>0</td>\n",
       "      <td>...</td>\n",
       "      <td>NaN</td>\n",
       "      <td>NaN</td>\n",
       "      <td>NaN</td>\n",
       "      <td>NaN</td>\n",
       "      <td>NaN</td>\n",
       "      <td>NaN</td>\n",
       "      <td>NaN</td>\n",
       "      <td>NaN</td>\n",
       "      <td>NaN</td>\n",
       "      <td>1</td>\n",
       "    </tr>\n",
       "    <tr>\n",
       "      <th>2</th>\n",
       "      <td>-0VK5Z1BfUHUYq4PoBYNLw</td>\n",
       "      <td>T Spot</td>\n",
       "      <td>5</td>\n",
       "      <td>Las Vegas</td>\n",
       "      <td>3.5</td>\n",
       "      <td>['Bars', 'Nightlife', 'Lounges']</td>\n",
       "      <td>1</td>\n",
       "      <td>NaN</td>\n",
       "      <td>NaN</td>\n",
       "      <td>0</td>\n",
       "      <td>...</td>\n",
       "      <td>NaN</td>\n",
       "      <td>NaN</td>\n",
       "      <td>NaN</td>\n",
       "      <td>NaN</td>\n",
       "      <td>NaN</td>\n",
       "      <td>NaN</td>\n",
       "      <td>NaN</td>\n",
       "      <td>NaN</td>\n",
       "      <td>NaN</td>\n",
       "      <td>1</td>\n",
       "    </tr>\n",
       "  </tbody>\n",
       "</table>\n",
       "<p>3 rows × 84 columns</p>\n",
       "</div>"
      ],
      "text/plain": [
       "variable             business_id        name  review_count       city  stars  \\\n",
       "0         --jFTZmywe7StuZ2hEjxyA      Subway             7  Las Vegas    3.5   \n",
       "1         -0HGqwlfw3I8nkJyMHxAsQ  McDonald's             9    Phoenix    3.0   \n",
       "2         -0VK5Z1BfUHUYq4PoBYNLw      T Spot             5  Las Vegas    3.5   \n",
       "\n",
       "variable                                  categories  \\\n",
       "0         ['Fast Food', 'Sandwiches', 'Restaurants']   \n",
       "1            ['Burgers', 'Fast Food', 'Restaurants']   \n",
       "2                   ['Bars', 'Nightlife', 'Lounges']   \n",
       "\n",
       "variable attributes.Accepts Credit Cards attributes.Accepts Insurance  \\\n",
       "0                                      1                          NaN   \n",
       "1                                      1                          NaN   \n",
       "2                                      1                          NaN   \n",
       "\n",
       "variable attributes.Ages Allowed attributes.Alcohol ...  hours.Saturday.open  \\\n",
       "0                            NaN                  0 ...                  NaN   \n",
       "1                            NaN                  0 ...                  NaN   \n",
       "2                            NaN                  0 ...                  NaN   \n",
       "\n",
       "variable hours.Sunday.close hours.Sunday.open hours.Thursday.close  \\\n",
       "0                       NaN               NaN                  NaN   \n",
       "1                       NaN               NaN                  NaN   \n",
       "2                       NaN               NaN                  NaN   \n",
       "\n",
       "variable hours.Thursday.open hours.Tuesday.close hours.Tuesday.open  \\\n",
       "0                        NaN                 NaN                NaN   \n",
       "1                        NaN                 NaN                NaN   \n",
       "2                        NaN                 NaN                NaN   \n",
       "\n",
       "variable hours.Wednesday.close hours.Wednesday.open open  \n",
       "0                          NaN                  NaN    1  \n",
       "1                          NaN                  NaN    1  \n",
       "2                          NaN                  NaN    1  \n",
       "\n",
       "[3 rows x 84 columns]"
      ]
     },
     "execution_count": 66,
     "metadata": {},
     "output_type": "execute_result"
    }
   ],
   "source": [
    "businesses_wide.head(3)"
   ]
  },
  {
   "cell_type": "code",
   "execution_count": 67,
   "metadata": {
    "collapsed": false
   },
   "outputs": [
    {
     "name": "stdout",
     "output_type": "stream",
     "text": [
      "<class 'pandas.core.frame.DataFrame'>\n",
      "RangeIndex: 4132 entries, 0 to 4131\n",
      "Data columns (total 84 columns):\n",
      "business_id                                    4132 non-null object\n",
      "name                                           4132 non-null object\n",
      "review_count                                   4132 non-null int64\n",
      "city                                           4132 non-null object\n",
      "stars                                          4132 non-null float64\n",
      "categories                                     4132 non-null object\n",
      "attributes.Accepts Credit Cards                3896 non-null object\n",
      "attributes.Accepts Insurance                   7 non-null object\n",
      "attributes.Ages Allowed                        101 non-null object\n",
      "attributes.Alcohol                             3050 non-null object\n",
      "attributes.Ambience.casual                     2873 non-null object\n",
      "attributes.Ambience.classy                     2873 non-null object\n",
      "attributes.Ambience.divey                      2864 non-null object\n",
      "attributes.Ambience.hipster                    2871 non-null object\n",
      "attributes.Ambience.intimate                   2873 non-null object\n",
      "attributes.Ambience.romantic                   2873 non-null object\n",
      "attributes.Ambience.touristy                   2873 non-null object\n",
      "attributes.Ambience.trendy                     2873 non-null object\n",
      "attributes.Ambience.upscale                    2866 non-null object\n",
      "attributes.Attire                              2650 non-null object\n",
      "attributes.BYOB                                106 non-null object\n",
      "attributes.BYOB/Corkage                        159 non-null object\n",
      "attributes.By Appointment Only                 135 non-null object\n",
      "attributes.Caters                              2050 non-null object\n",
      "attributes.Coat Check                          1260 non-null object\n",
      "attributes.Corkage                             100 non-null object\n",
      "attributes.Delivery                            2777 non-null object\n",
      "attributes.Dietary Restrictions.dairy-free     5 non-null object\n",
      "attributes.Dietary Restrictions.gluten-free    5 non-null object\n",
      "attributes.Dietary Restrictions.halal          5 non-null object\n",
      "attributes.Dietary Restrictions.kosher         5 non-null object\n",
      "attributes.Dietary Restrictions.soy-free       5 non-null object\n",
      "attributes.Dietary Restrictions.vegan          5 non-null object\n",
      "attributes.Dietary Restrictions.vegetarian     5 non-null object\n",
      "attributes.Dogs Allowed                        378 non-null object\n",
      "attributes.Drive-Thru                          1274 non-null object\n",
      "attributes.Good For Dancing                    1277 non-null object\n",
      "attributes.Good For Groups                     3362 non-null object\n",
      "attributes.Good For.breakfast                  2508 non-null object\n",
      "attributes.Good For.brunch                     2503 non-null object\n",
      "attributes.Good For.dessert                    2502 non-null object\n",
      "attributes.Good For.dinner                     2507 non-null object\n",
      "attributes.Good For.latenight                  2507 non-null object\n",
      "attributes.Good For.lunch                      2507 non-null object\n",
      "attributes.Good for Kids                       2909 non-null object\n",
      "attributes.Happy Hour                          1321 non-null object\n",
      "attributes.Has TV                              3084 non-null object\n",
      "attributes.Music.background_music              406 non-null object\n",
      "attributes.Music.dj                            1052 non-null object\n",
      "attributes.Music.jukebox                       749 non-null object\n",
      "attributes.Music.karaoke                       414 non-null object\n",
      "attributes.Music.live                          709 non-null object\n",
      "attributes.Music.video                         657 non-null object\n",
      "attributes.Noise Level                         2805 non-null object\n",
      "attributes.Open 24 Hours                       54 non-null object\n",
      "attributes.Order at Counter                    62 non-null object\n",
      "attributes.Outdoor Seating                     3267 non-null object\n",
      "attributes.Parking.garage                      3427 non-null object\n",
      "attributes.Parking.lot                         3427 non-null object\n",
      "attributes.Parking.street                      3427 non-null object\n",
      "attributes.Parking.valet                       3427 non-null object\n",
      "attributes.Parking.validated                   3427 non-null object\n",
      "attributes.Price Range                         3843 non-null object\n",
      "attributes.Smoking                             1187 non-null object\n",
      "attributes.Take-out                            2667 non-null object\n",
      "attributes.Takes Reservations                  2653 non-null object\n",
      "attributes.Waiter Service                      2360 non-null object\n",
      "attributes.Wheelchair Accessible               1926 non-null object\n",
      "attributes.Wi-Fi                               2176 non-null object\n",
      "hours.Friday.close                             2518 non-null object\n",
      "hours.Friday.open                              2518 non-null object\n",
      "hours.Monday.close                             2325 non-null object\n",
      "hours.Monday.open                              2325 non-null object\n",
      "hours.Saturday.close                           2464 non-null object\n",
      "hours.Saturday.open                            2464 non-null object\n",
      "hours.Sunday.close                             2194 non-null object\n",
      "hours.Sunday.open                              2194 non-null object\n",
      "hours.Thursday.close                           2489 non-null object\n",
      "hours.Thursday.open                            2489 non-null object\n",
      "hours.Tuesday.close                            2433 non-null object\n",
      "hours.Tuesday.open                             2433 non-null object\n",
      "hours.Wednesday.close                          2464 non-null object\n",
      "hours.Wednesday.open                           2464 non-null object\n",
      "open                                           4132 non-null object\n",
      "dtypes: float64(1), int64(1), object(82)\n",
      "memory usage: 2.6+ MB\n"
     ]
    }
   ],
   "source": [
    "businesses_wide.info()\n",
    "\n",
    "# Lots of null values to take care of..."
   ]
  },
  {
   "cell_type": "code",
   "execution_count": 68,
   "metadata": {
    "collapsed": false
   },
   "outputs": [
    {
     "data": {
      "text/plain": [
       "2066.0"
      ]
     },
     "execution_count": 68,
     "metadata": {},
     "output_type": "execute_result"
    }
   ],
   "source": [
    "businesses_wide.shape[0] / 2.0"
   ]
  },
  {
   "cell_type": "markdown",
   "metadata": {},
   "source": [
    "#### I only want to keep columns where more than half of the rows have values."
   ]
  },
  {
   "cell_type": "code",
   "execution_count": 69,
   "metadata": {
    "collapsed": false
   },
   "outputs": [],
   "source": [
    "keep_cols = [col for col in businesses_wide.columns if sum(businesses_wide[col].isnull())<2066]"
   ]
  },
  {
   "cell_type": "code",
   "execution_count": 70,
   "metadata": {
    "collapsed": false
   },
   "outputs": [],
   "source": [
    "businesses_wide = businesses_wide[keep_cols]"
   ]
  },
  {
   "cell_type": "code",
   "execution_count": 71,
   "metadata": {
    "collapsed": false
   },
   "outputs": [
    {
     "name": "stdout",
     "output_type": "stream",
     "text": [
      "hours.Friday.close\n",
      " 0.0    2518\n",
      "NaN     1614\n",
      "Name: hours.Friday.close, dtype: int64\n",
      "\n",
      "hours.Friday.open\n",
      " 0.0    2518\n",
      "NaN     1614\n",
      "Name: hours.Friday.open, dtype: int64\n",
      "\n",
      "hours.Monday.close\n",
      " 0.0    2325\n",
      "NaN     1807\n",
      "Name: hours.Monday.close, dtype: int64\n",
      "\n",
      "hours.Monday.open\n",
      " 0.0    2325\n",
      "NaN     1807\n",
      "Name: hours.Monday.open, dtype: int64\n",
      "\n",
      "hours.Saturday.close\n",
      " 0.0    2464\n",
      "NaN     1668\n",
      "Name: hours.Saturday.close, dtype: int64\n",
      "\n",
      "hours.Saturday.open\n",
      " 0.0    2464\n",
      "NaN     1668\n",
      "Name: hours.Saturday.open, dtype: int64\n",
      "\n",
      "hours.Sunday.close\n",
      " 0.0    2194\n",
      "NaN     1938\n",
      "Name: hours.Sunday.close, dtype: int64\n",
      "\n",
      "hours.Sunday.open\n",
      " 0.0    2194\n",
      "NaN     1938\n",
      "Name: hours.Sunday.open, dtype: int64\n",
      "\n",
      "hours.Thursday.close\n",
      " 0.0    2489\n",
      "NaN     1643\n",
      "Name: hours.Thursday.close, dtype: int64\n",
      "\n",
      "hours.Thursday.open\n",
      " 0.0    2489\n",
      "NaN     1643\n",
      "Name: hours.Thursday.open, dtype: int64\n",
      "\n",
      "hours.Tuesday.close\n",
      " 0.0    2433\n",
      "NaN     1699\n",
      "Name: hours.Tuesday.close, dtype: int64\n",
      "\n",
      "hours.Tuesday.open\n",
      " 0.0    2433\n",
      "NaN     1699\n",
      "Name: hours.Tuesday.open, dtype: int64\n",
      "\n",
      "hours.Wednesday.close\n",
      " 0.0    2464\n",
      "NaN     1668\n",
      "Name: hours.Wednesday.close, dtype: int64\n",
      "\n",
      "hours.Wednesday.open\n",
      " 0.0    2464\n",
      "NaN     1668\n",
      "Name: hours.Wednesday.open, dtype: int64\n",
      "\n"
     ]
    }
   ],
   "source": [
    "#I want to see what is in the 'hours' columns.\n",
    "\n",
    "for col in businesses_wide.columns:\n",
    "    if 'hours' in col:\n",
    "        print col\n",
    "        print businesses_wide[col].value_counts(dropna = False)\n",
    "        print ''\n",
    "        \n",
    "#It appears that the values are either 0 or NaN. I don't think these columns are very useful."
   ]
  },
  {
   "cell_type": "markdown",
   "metadata": {
    "collapsed": true
   },
   "source": [
    "#### These hours columns really don't have much info. I'm getting rid of them."
   ]
  },
  {
   "cell_type": "code",
   "execution_count": 72,
   "metadata": {
    "collapsed": false
   },
   "outputs": [
    {
     "name": "stdout",
     "output_type": "stream",
     "text": [
      "<class 'pandas.core.frame.DataFrame'>\n",
      "RangeIndex: 4132 entries, 0 to 4131\n",
      "Data columns (total 41 columns):\n",
      "business_id                        4132 non-null object\n",
      "name                               4132 non-null object\n",
      "review_count                       4132 non-null int64\n",
      "city                               4132 non-null object\n",
      "stars                              4132 non-null float64\n",
      "categories                         4132 non-null object\n",
      "attributes.Accepts Credit Cards    3896 non-null object\n",
      "attributes.Alcohol                 3050 non-null object\n",
      "attributes.Ambience.casual         2873 non-null object\n",
      "attributes.Ambience.classy         2873 non-null object\n",
      "attributes.Ambience.divey          2864 non-null object\n",
      "attributes.Ambience.hipster        2871 non-null object\n",
      "attributes.Ambience.intimate       2873 non-null object\n",
      "attributes.Ambience.romantic       2873 non-null object\n",
      "attributes.Ambience.touristy       2873 non-null object\n",
      "attributes.Ambience.trendy         2873 non-null object\n",
      "attributes.Ambience.upscale        2866 non-null object\n",
      "attributes.Attire                  2650 non-null object\n",
      "attributes.Delivery                2777 non-null object\n",
      "attributes.Good For Groups         3362 non-null object\n",
      "attributes.Good For.breakfast      2508 non-null object\n",
      "attributes.Good For.brunch         2503 non-null object\n",
      "attributes.Good For.dessert        2502 non-null object\n",
      "attributes.Good For.dinner         2507 non-null object\n",
      "attributes.Good For.latenight      2507 non-null object\n",
      "attributes.Good For.lunch          2507 non-null object\n",
      "attributes.Good for Kids           2909 non-null object\n",
      "attributes.Has TV                  3084 non-null object\n",
      "attributes.Noise Level             2805 non-null object\n",
      "attributes.Outdoor Seating         3267 non-null object\n",
      "attributes.Parking.garage          3427 non-null object\n",
      "attributes.Parking.lot             3427 non-null object\n",
      "attributes.Parking.street          3427 non-null object\n",
      "attributes.Parking.valet           3427 non-null object\n",
      "attributes.Parking.validated       3427 non-null object\n",
      "attributes.Price Range             3843 non-null object\n",
      "attributes.Take-out                2667 non-null object\n",
      "attributes.Takes Reservations      2653 non-null object\n",
      "attributes.Waiter Service          2360 non-null object\n",
      "attributes.Wi-Fi                   2176 non-null object\n",
      "open                               4132 non-null object\n",
      "dtypes: float64(1), int64(1), object(39)\n",
      "memory usage: 1.3+ MB\n"
     ]
    }
   ],
   "source": [
    "for col in businesses_wide.columns:\n",
    "    if 'hours' in col:\n",
    "        del businesses_wide[col]\n",
    "        \n",
    "businesses_wide.info()"
   ]
  },
  {
   "cell_type": "code",
   "execution_count": 73,
   "metadata": {
    "collapsed": false
   },
   "outputs": [
    {
     "name": "stdout",
     "output_type": "stream",
     "text": [
      "attributes.Alcohol\n",
      " 0.0    3050\n",
      "NaN     1082\n",
      "Name: attributes.Alcohol, dtype: int64\n",
      "\n",
      "attributes.Attire\n",
      " 0.0    2650\n",
      "NaN     1482\n",
      "Name: attributes.Attire, dtype: int64\n",
      "\n",
      "attributes.Noise Level\n",
      " 0.0    2805\n",
      "NaN     1327\n",
      "Name: attributes.Noise Level, dtype: int64\n",
      "\n",
      "attributes.Wi-Fi\n",
      " 0.0    2176\n",
      "NaN     1956\n",
      "Name: attributes.Wi-Fi, dtype: int64\n",
      "\n",
      "open\n",
      "1    3358\n",
      "0     774\n",
      "Name: open, dtype: int64\n",
      "\n"
     ]
    }
   ],
   "source": [
    "# Okay, now I want to see if there are any other columns like this...\n",
    "\n",
    "for col in businesses_wide.columns:\n",
    "    if len(businesses_wide[col].unique()) < 3:\n",
    "        print col\n",
    "        print businesses_wide[col].value_counts(dropna = False)\n",
    "        print ''\n",
    "        \n",
    "# I'm going to keep 'open' but get rid of the others. It's kind of a shame that they're empty as \n",
    "# this is probably a fairly good indicator of Vegas, but as none of these are 'True' I can't\n",
    "# really use them."
   ]
  },
  {
   "cell_type": "code",
   "execution_count": 74,
   "metadata": {
    "collapsed": false
   },
   "outputs": [
    {
     "name": "stdout",
     "output_type": "stream",
     "text": [
      "<class 'pandas.core.frame.DataFrame'>\n",
      "RangeIndex: 4132 entries, 0 to 4131\n",
      "Data columns (total 37 columns):\n",
      "business_id                        4132 non-null object\n",
      "name                               4132 non-null object\n",
      "review_count                       4132 non-null int64\n",
      "city                               4132 non-null object\n",
      "stars                              4132 non-null float64\n",
      "categories                         4132 non-null object\n",
      "attributes.Accepts Credit Cards    3896 non-null object\n",
      "attributes.Ambience.casual         2873 non-null object\n",
      "attributes.Ambience.classy         2873 non-null object\n",
      "attributes.Ambience.divey          2864 non-null object\n",
      "attributes.Ambience.hipster        2871 non-null object\n",
      "attributes.Ambience.intimate       2873 non-null object\n",
      "attributes.Ambience.romantic       2873 non-null object\n",
      "attributes.Ambience.touristy       2873 non-null object\n",
      "attributes.Ambience.trendy         2873 non-null object\n",
      "attributes.Ambience.upscale        2866 non-null object\n",
      "attributes.Delivery                2777 non-null object\n",
      "attributes.Good For Groups         3362 non-null object\n",
      "attributes.Good For.breakfast      2508 non-null object\n",
      "attributes.Good For.brunch         2503 non-null object\n",
      "attributes.Good For.dessert        2502 non-null object\n",
      "attributes.Good For.dinner         2507 non-null object\n",
      "attributes.Good For.latenight      2507 non-null object\n",
      "attributes.Good For.lunch          2507 non-null object\n",
      "attributes.Good for Kids           2909 non-null object\n",
      "attributes.Has TV                  3084 non-null object\n",
      "attributes.Outdoor Seating         3267 non-null object\n",
      "attributes.Parking.garage          3427 non-null object\n",
      "attributes.Parking.lot             3427 non-null object\n",
      "attributes.Parking.street          3427 non-null object\n",
      "attributes.Parking.valet           3427 non-null object\n",
      "attributes.Parking.validated       3427 non-null object\n",
      "attributes.Price Range             3843 non-null object\n",
      "attributes.Take-out                2667 non-null object\n",
      "attributes.Takes Reservations      2653 non-null object\n",
      "attributes.Waiter Service          2360 non-null object\n",
      "open                               4132 non-null object\n",
      "dtypes: float64(1), int64(1), object(35)\n",
      "memory usage: 1.2+ MB\n"
     ]
    }
   ],
   "source": [
    "drop_cols = ['attributes.Alcohol', 'attributes.Attire', 'attributes.Noise Level', 'attributes.Wi-Fi']\n",
    "\n",
    "businesses_wide = businesses_wide[[col for col in businesses_wide.columns if col not in drop_cols]]\n",
    "businesses_wide.info()"
   ]
  },
  {
   "cell_type": "code",
   "execution_count": 48,
   "metadata": {
    "collapsed": false
   },
   "outputs": [
    {
     "data": {
      "text/plain": [
       "array([\"['Fast Food', 'Sandwiches', 'Restaurants']\",\n",
       "       \"['Burgers', 'Fast Food', 'Restaurants']\",\n",
       "       \"['Bars', 'Nightlife', 'Lounges']\",\n",
       "       \"['Bakeries', 'Food', 'Breakfast & Brunch', 'Restaurants']\",\n",
       "       \"['Breakfast & Brunch', 'Cafes', 'American (Traditional)', 'Restaurants']\"], dtype=object)"
      ]
     },
     "execution_count": 48,
     "metadata": {},
     "output_type": "execute_result"
    }
   ],
   "source": [
    "businesses_wide.categories.unique()[:5]"
   ]
  },
  {
   "cell_type": "markdown",
   "metadata": {},
   "source": [
    "** This categories column is super interesting, but not helpful as is. I'm going to split this up into multiple columns and enter the value 0 or 1. **"
   ]
  },
  {
   "cell_type": "code",
   "execution_count": 50,
   "metadata": {
    "collapsed": false
   },
   "outputs": [
    {
     "data": {
      "text/plain": [
       "(array(['Active Life', 'Adult Entertainment', 'Afghan', 'Airport Lounges',\n",
       "        'Airports', 'Amateur Sports Teams', 'American (New)',\n",
       "        'American (Traditional)', 'Arcades', 'Art Galleries',\n",
       "        'Arts & Crafts', 'Arts & Entertainment', 'Asian Fusion', 'Bagels',\n",
       "        'Bakeries', 'Barbeque', 'Barbers', 'Barre Classes', 'Bars',\n",
       "        'Beauty & Spas'], \n",
       "       dtype='|S32'), 214)"
      ]
     },
     "execution_count": 50,
     "metadata": {},
     "output_type": "execute_result"
    }
   ],
   "source": [
    "category_list = []\n",
    "for cat in businesses_wide.categories.unique():\n",
    "    cat = str(cat.replace('\"', '').replace(']','').replace('[', '').replace(\"'\", \"\"))\n",
    "    try:\n",
    "        category_list.extend(cat.split(\", \"))\n",
    "    except:\n",
    "        pass\n",
    "    \n",
    "category_list = np.unique(category_list)\n",
    "category_list[:20], len(category_list)"
   ]
  },
  {
   "cell_type": "code",
   "execution_count": 51,
   "metadata": {
    "collapsed": true
   },
   "outputs": [],
   "source": [
    "def parse_category(series_value, column_name = None):\n",
    "    try:\n",
    "        if column_name in series_value:\n",
    "            return 1\n",
    "        else:\n",
    "            return 0\n",
    "    except:\n",
    "        return 0\n",
    "\n",
    "for x in category_list: \n",
    "    businesses_wide[x] = businesses_wide['categories'].apply(parse_category, column_name = x)\n",
    "    "
   ]
  },
  {
   "cell_type": "code",
   "execution_count": 52,
   "metadata": {
    "collapsed": false
   },
   "outputs": [
    {
     "data": {
      "text/plain": [
       "(4132, 251)"
      ]
     },
     "execution_count": 52,
     "metadata": {},
     "output_type": "execute_result"
    }
   ],
   "source": [
    "businesses_wide.shape"
   ]
  },
  {
   "cell_type": "markdown",
   "metadata": {
    "collapsed": true
   },
   "source": [
    "**Okay, now I have too many columns...I'm going to try and see which categories \n",
    "only have values for very few businesses.**"
   ]
  },
  {
   "cell_type": "code",
   "execution_count": 28,
   "metadata": {
    "collapsed": false
   },
   "outputs": [],
   "source": [
    "for col in businesses_wide.columns[6:]:\n",
    "    if np.sum(businesses_wide[col]) <= 5:\n",
    "        print col, np.sum(businesses_wide[col])"
   ]
  },
  {
   "cell_type": "markdown",
   "metadata": {
    "collapsed": true
   },
   "source": [
    "**So, I guess there are a lot of columns with hardly any businesses in that category.\n",
    "I'm going to delete these ones.**"
   ]
  },
  {
   "cell_type": "code",
   "execution_count": 53,
   "metadata": {
    "collapsed": true
   },
   "outputs": [],
   "source": [
    "for col in businesses_wide.columns[6:]:\n",
    "    if np.sum(businesses_wide[col]) <= 5:\n",
    "        del businesses_wide[col]"
   ]
  },
  {
   "cell_type": "code",
   "execution_count": 54,
   "metadata": {
    "collapsed": false
   },
   "outputs": [
    {
     "data": {
      "text/plain": [
       "(4132, 142)"
      ]
     },
     "execution_count": 54,
     "metadata": {},
     "output_type": "execute_result"
    }
   ],
   "source": [
    "businesses_wide.shape"
   ]
  },
  {
   "cell_type": "markdown",
   "metadata": {
    "collapsed": true
   },
   "source": [
    "**So, all together this categories column thing didn't go very well. There were way more categories than I thought there would be. I'm going to go back and reload the data frame and not include the categories, but leave the code here in case I change my mind later when I actually start my model.**"
   ]
  },
  {
   "cell_type": "markdown",
   "metadata": {
    "collapsed": true
   },
   "source": [
    "** Finally, I'm going to impute values for columns that have null values. I'll just impute the mean of those columns and see how my profile goes. If I need to come back and fix it, I will. **"
   ]
  },
  {
   "cell_type": "code",
   "execution_count": 75,
   "metadata": {
    "collapsed": false
   },
   "outputs": [],
   "source": [
    "#del businesses_wide['categories']"
   ]
  },
  {
   "cell_type": "code",
   "execution_count": 76,
   "metadata": {
    "collapsed": false
   },
   "outputs": [
    {
     "data": {
      "text/plain": [
       "variable\n",
       "business_id                         object\n",
       "name                                object\n",
       "review_count                         int64\n",
       "city                                object\n",
       "stars                              float64\n",
       "categories                          object\n",
       "attributes.Accepts Credit Cards     object\n",
       "attributes.Ambience.casual          object\n",
       "attributes.Ambience.classy          object\n",
       "attributes.Ambience.divey           object\n",
       "attributes.Ambience.hipster         object\n",
       "attributes.Ambience.intimate        object\n",
       "attributes.Ambience.romantic        object\n",
       "attributes.Ambience.touristy        object\n",
       "attributes.Ambience.trendy          object\n",
       "attributes.Ambience.upscale         object\n",
       "attributes.Delivery                 object\n",
       "attributes.Good For Groups          object\n",
       "attributes.Good For.breakfast       object\n",
       "attributes.Good For.brunch          object\n",
       "attributes.Good For.dessert         object\n",
       "attributes.Good For.dinner          object\n",
       "attributes.Good For.latenight       object\n",
       "attributes.Good For.lunch           object\n",
       "attributes.Good for Kids            object\n",
       "attributes.Has TV                   object\n",
       "attributes.Outdoor Seating          object\n",
       "attributes.Parking.garage           object\n",
       "attributes.Parking.lot              object\n",
       "attributes.Parking.street           object\n",
       "attributes.Parking.valet            object\n",
       "attributes.Parking.validated        object\n",
       "attributes.Price Range              object\n",
       "attributes.Take-out                 object\n",
       "attributes.Takes Reservations       object\n",
       "attributes.Waiter Service           object\n",
       "open                                object\n",
       "dtype: object"
      ]
     },
     "execution_count": 76,
     "metadata": {},
     "output_type": "execute_result"
    }
   ],
   "source": [
    "businesses_wide.dtypes"
   ]
  },
  {
   "cell_type": "code",
   "execution_count": 77,
   "metadata": {
    "collapsed": false
   },
   "outputs": [
    {
     "name": "stderr",
     "output_type": "stream",
     "text": [
      "/anaconda/envs/dsi/lib/python2.7/site-packages/ipykernel/__main__.py:4: SettingWithCopyWarning: \n",
      "A value is trying to be set on a copy of a slice from a DataFrame\n",
      "\n",
      "See the caveats in the documentation: http://pandas.pydata.org/pandas-docs/stable/indexing.html#indexing-view-versus-copy\n"
     ]
    }
   ],
   "source": [
    "for col in businesses_wide.columns:\n",
    "    if np.sum(businesses_wide[col].isnull())>0:\n",
    "        mean_col = np.mean(businesses_wide[col])\n",
    "        businesses_wide[col][businesses_wide[col].isnull()] = mean_col\n",
    "    try:\n",
    "        businesses_wide[col] = businesses_wide[col].map(lambda x: float(x))\n",
    "    except:\n",
    "        pass\n"
   ]
  },
  {
   "cell_type": "code",
   "execution_count": 78,
   "metadata": {
    "collapsed": false
   },
   "outputs": [
    {
     "name": "stdout",
     "output_type": "stream",
     "text": [
      "<class 'pandas.core.frame.DataFrame'>\n",
      "RangeIndex: 4132 entries, 0 to 4131\n",
      "Data columns (total 37 columns):\n",
      "business_id                        4132 non-null object\n",
      "name                               4132 non-null object\n",
      "review_count                       4132 non-null float64\n",
      "city                               4132 non-null object\n",
      "stars                              4132 non-null float64\n",
      "categories                         4132 non-null object\n",
      "attributes.Accepts Credit Cards    4132 non-null float64\n",
      "attributes.Ambience.casual         4132 non-null float64\n",
      "attributes.Ambience.classy         4132 non-null float64\n",
      "attributes.Ambience.divey          4132 non-null float64\n",
      "attributes.Ambience.hipster        4132 non-null float64\n",
      "attributes.Ambience.intimate       4132 non-null float64\n",
      "attributes.Ambience.romantic       4132 non-null float64\n",
      "attributes.Ambience.touristy       4132 non-null float64\n",
      "attributes.Ambience.trendy         4132 non-null float64\n",
      "attributes.Ambience.upscale        4132 non-null float64\n",
      "attributes.Delivery                4132 non-null float64\n",
      "attributes.Good For Groups         4132 non-null float64\n",
      "attributes.Good For.breakfast      4132 non-null float64\n",
      "attributes.Good For.brunch         4132 non-null float64\n",
      "attributes.Good For.dessert        4132 non-null float64\n",
      "attributes.Good For.dinner         4132 non-null float64\n",
      "attributes.Good For.latenight      4132 non-null float64\n",
      "attributes.Good For.lunch          4132 non-null float64\n",
      "attributes.Good for Kids           4132 non-null float64\n",
      "attributes.Has TV                  4132 non-null float64\n",
      "attributes.Outdoor Seating         4132 non-null float64\n",
      "attributes.Parking.garage          4132 non-null float64\n",
      "attributes.Parking.lot             4132 non-null float64\n",
      "attributes.Parking.street          4132 non-null float64\n",
      "attributes.Parking.valet           4132 non-null float64\n",
      "attributes.Parking.validated       4132 non-null float64\n",
      "attributes.Price Range             4132 non-null float64\n",
      "attributes.Take-out                4132 non-null float64\n",
      "attributes.Takes Reservations      4132 non-null float64\n",
      "attributes.Waiter Service          4132 non-null float64\n",
      "open                               4132 non-null float64\n",
      "dtypes: float64(33), object(4)\n",
      "memory usage: 1.2+ MB\n"
     ]
    }
   ],
   "source": [
    "businesses_wide.info()"
   ]
  },
  {
   "cell_type": "code",
   "execution_count": 79,
   "metadata": {
    "collapsed": false
   },
   "outputs": [],
   "source": [
    "predictors = [col for col in businesses_wide.columns if col not in ['business_id', 'name', 'city', 'categories']]\n",
    "\n",
    "X = businesses_wide[predictors]\n",
    "y = businesses_wide['city'].map(lambda x: 1 if x == 'Las Vegas' else 0)\n",
    "\n",
    "from sklearn.cross_validation import train_test_split\n",
    "\n",
    "X_train, X_test, y_train, y_test = train_test_split(X, y, test_size=0.33, stratify = y)\n",
    "                    "
   ]
  },
  {
   "cell_type": "code",
   "execution_count": 82,
   "metadata": {
    "collapsed": false
   },
   "outputs": [
    {
     "name": "stdout",
     "output_type": "stream",
     "text": [
      "Fitting 4 folds for each of 40 candidates, totalling 160 fits\n"
     ]
    },
    {
     "name": "stderr",
     "output_type": "stream",
     "text": [
      "[Parallel(n_jobs=1)]: Done  49 tasks       | elapsed:    1.1s\n",
      "[Parallel(n_jobs=1)]: Done 160 out of 160 | elapsed:    3.9s finished\n"
     ]
    },
    {
     "data": {
      "text/plain": [
       "GridSearchCV(cv=4, error_score='raise',\n",
       "       estimator=KNeighborsClassifier(algorithm='auto', leaf_size=30, metric='minkowski',\n",
       "           metric_params=None, n_jobs=1, n_neighbors=5, p=2,\n",
       "           weights='uniform'),\n",
       "       fit_params={}, iid=True, n_jobs=1,\n",
       "       param_grid={'n_neighbors': [1, 3, 5, 7, 9, 11, 13, 15, 17, 19, 21, 23, 25, 27, 29, 31, 33, 35, 37, 39], 'weights': ['uniform', 'distance']},\n",
       "       pre_dispatch='2*n_jobs', refit=True, scoring=None, verbose=1)"
      ]
     },
     "execution_count": 82,
     "metadata": {},
     "output_type": "execute_result"
    }
   ],
   "source": [
    "from sklearn.neighbors import KNeighborsClassifier\n",
    "from sklearn.grid_search import GridSearchCV\n",
    "\n",
    "params = {\n",
    "    'n_neighbors': range(1,40, 2),\n",
    "    'weights':['uniform','distance']\n",
    "}\n",
    "\n",
    "knn = KNeighborsClassifier()\n",
    "knn_gs = GridSearchCV(knn, params, cv=4, verbose=1)\n",
    "\n",
    "knn_gs.fit(X_train, y_train)"
   ]
  },
  {
   "cell_type": "code",
   "execution_count": 85,
   "metadata": {
    "collapsed": false
   },
   "outputs": [
    {
     "name": "stdout",
     "output_type": "stream",
     "text": [
      "{'n_neighbors': 39, 'weights': 'uniform'}\n"
     ]
    }
   ],
   "source": [
    "print knn_gs.best_params_\n",
    "best_knn = knn_gs.best_estimator_"
   ]
  },
  {
   "cell_type": "code",
   "execution_count": 86,
   "metadata": {
    "collapsed": false
   },
   "outputs": [
    {
     "data": {
      "text/plain": [
       "0.62355491329479773"
      ]
     },
     "execution_count": 86,
     "metadata": {},
     "output_type": "execute_result"
    }
   ],
   "source": [
    "knn_gs.best_score_"
   ]
  },
  {
   "cell_type": "code",
   "execution_count": 87,
   "metadata": {
    "collapsed": false
   },
   "outputs": [
    {
     "data": {
      "text/plain": [
       "1    0.621975\n",
       "0    0.378025\n",
       "Name: city, dtype: float64"
      ]
     },
     "execution_count": 87,
     "metadata": {},
     "output_type": "execute_result"
    }
   ],
   "source": [
    "baseline = y.value_counts()/len(y)\n",
    "baseline\n",
    "\n",
    "#If I only guessed 1, I would be correct 62% of the time. My score is .623.\n",
    "#This means my model doesn't do much I think. "
   ]
  },
  {
   "cell_type": "code",
   "execution_count": 92,
   "metadata": {
    "collapsed": false
   },
   "outputs": [],
   "source": [
    "from sklearn.linear_model import LogisticRegression\n",
    "\n",
    "params = {\n",
    "    'penalty':['l1', 'l2'],\n",
    "    'solver':['liblinear'],\n",
    "    'C': np.linspace(0.00002,1,100)\n",
    "}\n",
    "\n",
    "lr = LogisticRegression()\n",
    "lr_gs = GridSearchCV(lr, params, cv=3, verbose=0)\n",
    "results = lr_gs.fit(X_train, y_train)"
   ]
  },
  {
   "cell_type": "code",
   "execution_count": 93,
   "metadata": {
    "collapsed": false
   },
   "outputs": [
    {
     "name": "stdout",
     "output_type": "stream",
     "text": [
      "Best Params: {'penalty': 'l1', 'C': 0.13133050505050503, 'solver': 'liblinear'}\n",
      "Best Score: 0.671965317919\n"
     ]
    }
   ],
   "source": [
    "print \"Best Params:\", results.best_params_\n",
    "print \"Best Score:\", results.best_score_"
   ]
  },
  {
   "cell_type": "code",
   "execution_count": 94,
   "metadata": {
    "collapsed": true
   },
   "outputs": [],
   "source": [
    "#My best score is slightly better now..."
   ]
  },
  {
   "cell_type": "code",
   "execution_count": 98,
   "metadata": {
    "collapsed": false
   },
   "outputs": [
    {
     "name": "stdout",
     "output_type": "stream",
     "text": [
      "Score:  0.66568914956\n"
     ]
    }
   ],
   "source": [
    "lr_final = LogisticRegression(penalty = 'l1', C = 0.1313, solver = 'liblinear')\n",
    "result = lr_final.fit(X_train, y_train)\n",
    "\n",
    "print 'Score: ', lr_final.score(X_test, y_test)"
   ]
  },
  {
   "cell_type": "code",
   "execution_count": 99,
   "metadata": {
    "collapsed": true
   },
   "outputs": [],
   "source": [
    "y_hat = result.predict(X)"
   ]
  },
  {
   "cell_type": "code",
   "execution_count": 131,
   "metadata": {
    "collapsed": false
   },
   "outputs": [
    {
     "name": "stderr",
     "output_type": "stream",
     "text": [
      "/anaconda/envs/dsi/lib/python2.7/site-packages/ipykernel/__main__.py:7: SettingWithCopyWarning: \n",
      "A value is trying to be set on a copy of a slice from a DataFrame\n",
      "\n",
      "See the caveats in the documentation: http://pandas.pydata.org/pandas-docs/stable/indexing.html#indexing-view-versus-copy\n"
     ]
    },
    {
     "data": {
      "text/html": [
       "<div>\n",
       "<table border=\"1\" class=\"dataframe\">\n",
       "  <thead>\n",
       "    <tr style=\"text-align: right;\">\n",
       "      <th></th>\n",
       "      <th>coef</th>\n",
       "      <th>predictor</th>\n",
       "    </tr>\n",
       "  </thead>\n",
       "  <tbody>\n",
       "    <tr>\n",
       "      <th>23</th>\n",
       "      <td>1.321099</td>\n",
       "      <td>attributes.Parking.garage</td>\n",
       "    </tr>\n",
       "    <tr>\n",
       "      <th>13</th>\n",
       "      <td>0.685073</td>\n",
       "      <td>attributes.Good For Groups</td>\n",
       "    </tr>\n",
       "    <tr>\n",
       "      <th>15</th>\n",
       "      <td>0.380212</td>\n",
       "      <td>attributes.Good For.brunch</td>\n",
       "    </tr>\n",
       "    <tr>\n",
       "      <th>18</th>\n",
       "      <td>0.132524</td>\n",
       "      <td>attributes.Good For.latenight</td>\n",
       "    </tr>\n",
       "    <tr>\n",
       "      <th>1</th>\n",
       "      <td>0.086836</td>\n",
       "      <td>stars</td>\n",
       "    </tr>\n",
       "    <tr>\n",
       "      <th>26</th>\n",
       "      <td>0.031285</td>\n",
       "      <td>attributes.Parking.valet</td>\n",
       "    </tr>\n",
       "    <tr>\n",
       "      <th>32</th>\n",
       "      <td>0.026328</td>\n",
       "      <td>open</td>\n",
       "    </tr>\n",
       "    <tr>\n",
       "      <th>0</th>\n",
       "      <td>0.000818</td>\n",
       "      <td>review_count</td>\n",
       "    </tr>\n",
       "  </tbody>\n",
       "</table>\n",
       "</div>"
      ],
      "text/plain": [
       "        coef                      predictor\n",
       "23  1.321099      attributes.Parking.garage\n",
       "13  0.685073     attributes.Good For Groups\n",
       "15  0.380212     attributes.Good For.brunch\n",
       "18  0.132524  attributes.Good For.latenight\n",
       "1   0.086836                          stars\n",
       "26  0.031285       attributes.Parking.valet\n",
       "32  0.026328                           open\n",
       "0   0.000818                   review_count"
      ]
     },
     "execution_count": 131,
     "metadata": {},
     "output_type": "execute_result"
    }
   ],
   "source": [
    "coef_df = pd.DataFrame({\n",
    "        'predictor': predictors,\n",
    "        'coef': result.coef_[0]\n",
    "    })\n",
    "\n",
    "pos_coef_df = coef_df[coef_df['coef'] > 0]\n",
    "pos_coef_df.sort_values('coef', inplace = True, ascending = False)\n",
    "pos_coef_df"
   ]
  },
  {
   "cell_type": "code",
   "execution_count": 132,
   "metadata": {
    "collapsed": false
   },
   "outputs": [
    {
     "name": "stderr",
     "output_type": "stream",
     "text": [
      "/anaconda/envs/dsi/lib/python2.7/site-packages/ipykernel/__main__.py:2: SettingWithCopyWarning: \n",
      "A value is trying to be set on a copy of a slice from a DataFrame\n",
      "\n",
      "See the caveats in the documentation: http://pandas.pydata.org/pandas-docs/stable/indexing.html#indexing-view-versus-copy\n",
      "  from ipykernel import kernelapp as app\n"
     ]
    },
    {
     "data": {
      "text/html": [
       "<div>\n",
       "<table border=\"1\" class=\"dataframe\">\n",
       "  <thead>\n",
       "    <tr style=\"text-align: right;\">\n",
       "      <th></th>\n",
       "      <th>coef</th>\n",
       "      <th>predictor</th>\n",
       "    </tr>\n",
       "  </thead>\n",
       "  <tbody>\n",
       "    <tr>\n",
       "      <th>22</th>\n",
       "      <td>-1.012224</td>\n",
       "      <td>attributes.Outdoor Seating</td>\n",
       "    </tr>\n",
       "    <tr>\n",
       "      <th>25</th>\n",
       "      <td>-0.659897</td>\n",
       "      <td>attributes.Parking.street</td>\n",
       "    </tr>\n",
       "    <tr>\n",
       "      <th>28</th>\n",
       "      <td>-0.303493</td>\n",
       "      <td>attributes.Price Range</td>\n",
       "    </tr>\n",
       "    <tr>\n",
       "      <th>17</th>\n",
       "      <td>-0.180742</td>\n",
       "      <td>attributes.Good For.dinner</td>\n",
       "    </tr>\n",
       "    <tr>\n",
       "      <th>3</th>\n",
       "      <td>-0.118295</td>\n",
       "      <td>attributes.Ambience.casual</td>\n",
       "    </tr>\n",
       "    <tr>\n",
       "      <th>21</th>\n",
       "      <td>-0.043415</td>\n",
       "      <td>attributes.Has TV</td>\n",
       "    </tr>\n",
       "    <tr>\n",
       "      <th>20</th>\n",
       "      <td>-0.028326</td>\n",
       "      <td>attributes.Good for Kids</td>\n",
       "    </tr>\n",
       "    <tr>\n",
       "      <th>30</th>\n",
       "      <td>-0.013630</td>\n",
       "      <td>attributes.Takes Reservations</td>\n",
       "    </tr>\n",
       "  </tbody>\n",
       "</table>\n",
       "</div>"
      ],
      "text/plain": [
       "        coef                      predictor\n",
       "22 -1.012224     attributes.Outdoor Seating\n",
       "25 -0.659897      attributes.Parking.street\n",
       "28 -0.303493         attributes.Price Range\n",
       "17 -0.180742     attributes.Good For.dinner\n",
       "3  -0.118295     attributes.Ambience.casual\n",
       "21 -0.043415              attributes.Has TV\n",
       "20 -0.028326       attributes.Good for Kids\n",
       "30 -0.013630  attributes.Takes Reservations"
      ]
     },
     "execution_count": 132,
     "metadata": {},
     "output_type": "execute_result"
    }
   ],
   "source": [
    "neg_coef_df = coef_df[coef_df['coef'] < 0]\n",
    "neg_coef_df.sort_values('coef', inplace = True)\n",
    "neg_coef_df"
   ]
  },
  {
   "cell_type": "code",
   "execution_count": 151,
   "metadata": {
    "collapsed": false
   },
   "outputs": [
    {
     "data": {
      "image/png": "[encoded data removed]",
      "text/plain": [
       "<matplotlib.figure.Figure at 0x11cf80e10>"
      ]
     },
     "metadata": {},
     "output_type": "display_data"
    }
   ],
   "source": [
    "fig, (ax1, ax2) = plt.subplots(1, 2, figsize=(16,7))\n",
    "\n",
    "ax1.bar(range(1, pos_coef_df.shape[0]+1), pos_coef_df.coef, \n",
    "       tick_label=pos_coef_df.predictor.values, color = 'darksage')\n",
    "ax1.set_xticklabels(pos_coef_df.predictor.values, rotation=90, size = 'x-large')\n",
    "ax1.set_title('Positive predictors of Las Vegas', fontsize = 20)\n",
    "\n",
    "ax2.bar(range(1, neg_coef_df.shape[0]+1), neg_coef_df.coef, \n",
    "       tick_label=neg_coef_df.predictor.values, color = 'darkred')\n",
    "ax2.set_xticklabels(neg_coef_df.predictor.values, rotation=90, size = 'x-large')\n",
    "ax2.set_title('Negative predictors of Las Vegas', fontsize = 20)\n",
    "\n",
    "plt.show()"
   ]
  },
  {
   "cell_type": "markdown",
   "metadata": {},
   "source": [
    "<img src=\"http://imgur.com/l5NasQj.png\" style=\"float: left; margin: 25px 15px 0px 0px; height: 25px\">\n",
    "\n",
    "## 3. Different categories of ratings\n",
    "\n",
    "---\n",
    "\n",
    "Yelp is finally ready to admit that their rating system sucks. No one cares about the ratings, they just use the site to find out what's nearby. The ratings are simply too unreliable for people. \n",
    "\n",
    "Yelp hypothesizes that this is, in fact, because different people tend to give their ratings based on different things. They believe that perhaps some people always base their ratings on quality of food, others on service, and perhaps other categories as well. \n",
    "\n",
    "1. Do some users tend to talk about service more than others in reviews/tips? Divide up the tips/reviews into more \"service-focused\" ones and those less concerned with service.\n",
    "2. Create two new ratings for businesses: ratings from just the service-focused reviews and ratings from the non-service reviews.\n",
    "3. Construct a regression model for each of the two ratings. They should use the same predictor variables (of your choice). \n",
    "4. Validate the performance of the models.\n",
    "5. Do the models coefficients differ at all? What does this tell you about the hypothesis that there are in fact two different kinds of ratings?"
   ]
  },
  {
   "cell_type": "code",
   "execution_count": 152,
   "metadata": {
    "collapsed": true
   },
   "outputs": [],
   "source": [
    "reviews = pd.read_csv('reviews.csv')"
   ]
  },
  {
   "cell_type": "code",
   "execution_count": 156,
   "metadata": {
    "collapsed": false
   },
   "outputs": [
    {
     "data": {
      "text/plain": [
       "['bottle_service',\n",
       " 'customer_service',\n",
       " 'food_service',\n",
       " 'good_service',\n",
       " 'great_service',\n",
       " 'service_excellent',\n",
       " 'service_food',\n",
       " 'service_friendly',\n",
       " 'service_good',\n",
       " 'service_great']"
      ]
     },
     "execution_count": 156,
     "metadata": {},
     "output_type": "execute_result"
    }
   ],
   "source": [
    "service_cols = [col for col in reviews.columns if 'service' in col]\n",
    "service_cols"
   ]
  },
  {
   "cell_type": "code",
   "execution_count": 169,
   "metadata": {
    "collapsed": false
   },
   "outputs": [],
   "source": [
    "def service_count(review):\n",
    "    service = 0\n",
    "    for col in service_cols:\n",
    "        if reviews.ix[review][col] > 0:\n",
    "            service += 1\n",
    "    return service\n",
    "\n",
    "reviews['service_mentions'] = [service_count(i) for i in range(reviews.shape[0])]\n",
    "\n",
    "\n"
   ]
  },
  {
   "cell_type": "code",
   "execution_count": 170,
   "metadata": {
    "collapsed": false
   },
   "outputs": [
    {
     "data": {
      "text/plain": [
       "0    274325\n",
       "1     41135\n",
       "2      6622\n",
       "3       293\n",
       "4        21\n",
       "5         2\n",
       "Name: service_mentions, dtype: int64"
      ]
     },
     "execution_count": 170,
     "metadata": {},
     "output_type": "execute_result"
    }
   ],
   "source": [
    "reviews['service_mentions'].value_counts()"
   ]
  },
  {
   "cell_type": "code",
   "execution_count": 171,
   "metadata": {
    "collapsed": true
   },
   "outputs": [],
   "source": [
    "reviews['service_focused'] = reviews['service_mentions'].map(lambda x: 1 if x > 1 else 0)"
   ]
  },
  {
   "cell_type": "code",
   "execution_count": 172,
   "metadata": {
    "collapsed": false
   },
   "outputs": [],
   "source": [
    "reviews['stars'] = reviews['stars'].map(lambda x: int(x))"
   ]
  },
  {
   "cell_type": "code",
   "execution_count": 173,
   "metadata": {
    "collapsed": false
   },
   "outputs": [
    {
     "data": {
      "text/plain": [
       "(6938, 111)"
      ]
     },
     "execution_count": 173,
     "metadata": {},
     "output_type": "execute_result"
    }
   ],
   "source": [
    "reviews[reviews['service_focused'] == 1].shape"
   ]
  },
  {
   "cell_type": "code",
   "execution_count": 174,
   "metadata": {
    "collapsed": false
   },
   "outputs": [
    {
     "data": {
      "text/plain": [
       "(315460, 111)"
      ]
     },
     "execution_count": 174,
     "metadata": {},
     "output_type": "execute_result"
    }
   ],
   "source": [
    "reviews[reviews['service_focused'] == 0].shape"
   ]
  },
  {
   "cell_type": "code",
   "execution_count": 179,
   "metadata": {
    "collapsed": true
   },
   "outputs": [],
   "source": [
    "reviews['rating'] = reviews['stars'].map(lambda x: 1 if x > 2.5 else 0)"
   ]
  },
  {
   "cell_type": "code",
   "execution_count": 180,
   "metadata": {
    "collapsed": false
   },
   "outputs": [
    {
     "data": {
      "text/plain": [
       "1    261249\n",
       "0     61149\n",
       "Name: rating, dtype: int64"
      ]
     },
     "execution_count": 180,
     "metadata": {},
     "output_type": "execute_result"
    }
   ],
   "source": [
    "reviews['rating'].value_counts()"
   ]
  },
  {
   "cell_type": "code",
   "execution_count": 184,
   "metadata": {
    "collapsed": false
   },
   "outputs": [
    {
     "data": {
      "text/plain": [
       "0.8838281925626982"
      ]
     },
     "execution_count": 184,
     "metadata": {},
     "output_type": "execute_result"
    }
   ],
   "source": [
    "#This is the portion of positive reviews in the service focused group.\n",
    "np.sum(reviews['rating'][reviews['service_focused'] == 1])/float(len(reviews['rating'][reviews['service_focused'] == 1]))"
   ]
  },
  {
   "cell_type": "code",
   "execution_count": 185,
   "metadata": {
    "collapsed": false
   },
   "outputs": [
    {
     "data": {
      "text/plain": [
       "0.80871425854308"
      ]
     },
     "execution_count": 185,
     "metadata": {},
     "output_type": "execute_result"
    }
   ],
   "source": [
    "#This is the portion of positive reviews in the non-service focused group.\n",
    "np.sum(reviews['rating'][reviews['service_focused'] == 0])/float(len(reviews['rating'][reviews['service_focused'] == 0]))"
   ]
  },
  {
   "cell_type": "code",
   "execution_count": 178,
   "metadata": {
    "collapsed": false
   },
   "outputs": [],
   "source": [
    "predictors = ['votes_funny', 'votes_cool', 'votes_useful']\n",
    "\n",
    "X_service = reviews[predictors][reviews['service_focused'] == 1]\n",
    "y_service = reviews['rating'][reviews['service_focused'] == 1]\n",
    "\n",
    "X_nonservice = reviews[predictors][reviews['service_focused'] == 0]\n",
    "y_nonservice = reviews['rating'][reviews['service_focused'] == 0]"
   ]
  },
  {
   "cell_type": "code",
   "execution_count": 196,
   "metadata": {
    "collapsed": false
   },
   "outputs": [],
   "source": [
    "params = {\n",
    "    'penalty':['l1', 'l2'],\n",
    "    'solver':['liblinear'],\n",
    "    'C': np.linspace(0.00002,1,100)\n",
    "}\n",
    "\n",
    "lr = LogisticRegression()\n",
    "lr_gs = GridSearchCV(lr, params, cv=3, verbose=0)\n",
    "gs_service = lr_gs.fit(X_service, y_service)"
   ]
  },
  {
   "cell_type": "code",
   "execution_count": 197,
   "metadata": {
    "collapsed": false
   },
   "outputs": [
    {
     "name": "stdout",
     "output_type": "stream",
     "text": [
      "Service Best Params {'penalty': 'l2', 'C': 0.070725656565656561, 'solver': 'liblinear'}\n",
      "Service Best Score 0.451859325454\n"
     ]
    }
   ],
   "source": [
    "print \"Service Best Params\", gs_service.best_params_\n",
    "print \"Service Best Score\", gs_service.best_score_"
   ]
  },
  {
   "cell_type": "code",
   "execution_count": 200,
   "metadata": {
    "collapsed": false
   },
   "outputs": [],
   "source": [
    "lr_final = LogisticRegression(penalty = 'l2', C = 0.0707, solver = 'liblinear')\n",
    "service_results = lr_final.fit(X_service, y_service)"
   ]
  },
  {
   "cell_type": "code",
   "execution_count": 201,
   "metadata": {
    "collapsed": true
   },
   "outputs": [],
   "source": [
    "non_service_results = lr_final.fit(X_nonservice, y_nonservice)"
   ]
  },
  {
   "cell_type": "code",
   "execution_count": 202,
   "metadata": {
    "collapsed": true
   },
   "outputs": [],
   "source": [
    "service_coef_df = pd.DataFrame({\n",
    "        'predictor': predictors,\n",
    "        'coef': service_results.coef_[0]\n",
    "    })\n",
    "\n",
    "nonservice_coef_df = pd.DataFrame({\n",
    "        'predictor': predictors,\n",
    "        'coef': non_service_results.coef_[0]\n",
    "    })"
   ]
  },
  {
   "cell_type": "code",
   "execution_count": 203,
   "metadata": {
    "collapsed": false
   },
   "outputs": [
    {
     "data": {
      "text/html": [
       "<div>\n",
       "<table border=\"1\" class=\"dataframe\">\n",
       "  <thead>\n",
       "    <tr style=\"text-align: right;\">\n",
       "      <th></th>\n",
       "      <th>coef</th>\n",
       "      <th>predictor</th>\n",
       "    </tr>\n",
       "  </thead>\n",
       "  <tbody>\n",
       "    <tr>\n",
       "      <th>0</th>\n",
       "      <td>0.414374</td>\n",
       "      <td>votes_funny</td>\n",
       "    </tr>\n",
       "    <tr>\n",
       "      <th>1</th>\n",
       "      <td>-1.100406</td>\n",
       "      <td>votes_cool</td>\n",
       "    </tr>\n",
       "    <tr>\n",
       "      <th>2</th>\n",
       "      <td>0.367228</td>\n",
       "      <td>votes_useful</td>\n",
       "    </tr>\n",
       "  </tbody>\n",
       "</table>\n",
       "</div>"
      ],
      "text/plain": [
       "       coef     predictor\n",
       "0  0.414374   votes_funny\n",
       "1 -1.100406    votes_cool\n",
       "2  0.367228  votes_useful"
      ]
     },
     "execution_count": 203,
     "metadata": {},
     "output_type": "execute_result"
    }
   ],
   "source": [
    "service_coef_df"
   ]
  },
  {
   "cell_type": "code",
   "execution_count": 204,
   "metadata": {
    "collapsed": false
   },
   "outputs": [
    {
     "data": {
      "text/html": [
       "<div>\n",
       "<table border=\"1\" class=\"dataframe\">\n",
       "  <thead>\n",
       "    <tr style=\"text-align: right;\">\n",
       "      <th></th>\n",
       "      <th>coef</th>\n",
       "      <th>predictor</th>\n",
       "    </tr>\n",
       "  </thead>\n",
       "  <tbody>\n",
       "    <tr>\n",
       "      <th>0</th>\n",
       "      <td>0.414374</td>\n",
       "      <td>votes_funny</td>\n",
       "    </tr>\n",
       "    <tr>\n",
       "      <th>1</th>\n",
       "      <td>-1.100406</td>\n",
       "      <td>votes_cool</td>\n",
       "    </tr>\n",
       "    <tr>\n",
       "      <th>2</th>\n",
       "      <td>0.367228</td>\n",
       "      <td>votes_useful</td>\n",
       "    </tr>\n",
       "  </tbody>\n",
       "</table>\n",
       "</div>"
      ],
      "text/plain": [
       "       coef     predictor\n",
       "0  0.414374   votes_funny\n",
       "1 -1.100406    votes_cool\n",
       "2  0.367228  votes_useful"
      ]
     },
     "execution_count": 204,
     "metadata": {},
     "output_type": "execute_result"
    }
   ],
   "source": [
    "nonservice_coef_df"
   ]
  },
  {
   "cell_type": "code",
   "execution_count": 205,
   "metadata": {
    "collapsed": true
   },
   "outputs": [],
   "source": [
    "#The coefficients I got were exactly the same. \n",
    "#I may have made a mistake somewhere."
   ]
  },
  {
   "cell_type": "markdown",
   "metadata": {},
   "source": [
    "<img src=\"http://imgur.com/l5NasQj.png\" style=\"float: left; margin: 25px 15px 0px 0px; height: 25px\">\n",
    "\n",
    "## 4. Identifying \"elite\" users\n",
    "\n",
    "---\n",
    "\n",
    "Yelp, though having their own formula for determining whether a user is elite or not, is interested in delving deeper into what differentiates an elite user from a normal user at a broader level.\n",
    "\n",
    "Use a classification model to predict whether a user is elite or not. Note that users can be elite in some years and not in others.\n",
    "\n",
    "1. What things predict well whether a user is elite or not?\n",
    "- Validate the model.\n",
    "- If you were to remove the \"counts\" metrics for users (reviews, votes, compliments), what distinguishes an elite user, if anything? Validate the model and compare it to the one with the count variables.\n",
    "- Think of a way to visually represent your results in a compelling way.\n",
    "- Give a brief write-up of your findings.\n"
   ]
  },
  {
   "cell_type": "code",
   "execution_count": 226,
   "metadata": {
    "collapsed": true
   },
   "outputs": [],
   "source": [
    "users = pd.read_csv('users.csv')"
   ]
  },
  {
   "cell_type": "code",
   "execution_count": 227,
   "metadata": {
    "collapsed": false
   },
   "outputs": [
    {
     "data": {
      "text/html": [
       "<div>\n",
       "<table border=\"1\" class=\"dataframe\">\n",
       "  <thead>\n",
       "    <tr style=\"text-align: right;\">\n",
       "      <th></th>\n",
       "      <th>Unnamed: 0</th>\n",
       "      <th>yelping_since</th>\n",
       "      <th>compliments_plain</th>\n",
       "      <th>review_count</th>\n",
       "      <th>compliments_cute</th>\n",
       "      <th>compliments_writer</th>\n",
       "      <th>fans</th>\n",
       "      <th>compliments_note</th>\n",
       "      <th>compliments_hot</th>\n",
       "      <th>compliments_cool</th>\n",
       "      <th>...</th>\n",
       "      <th>compliments_more</th>\n",
       "      <th>elite</th>\n",
       "      <th>name</th>\n",
       "      <th>user_id</th>\n",
       "      <th>votes_cool</th>\n",
       "      <th>compliments_list</th>\n",
       "      <th>votes_funny</th>\n",
       "      <th>compliments_photos</th>\n",
       "      <th>compliments_funny</th>\n",
       "      <th>votes_useful</th>\n",
       "    </tr>\n",
       "  </thead>\n",
       "  <tbody>\n",
       "    <tr>\n",
       "      <th>0</th>\n",
       "      <td>0</td>\n",
       "      <td>2015-01</td>\n",
       "      <td>NaN</td>\n",
       "      <td>1</td>\n",
       "      <td>NaN</td>\n",
       "      <td>NaN</td>\n",
       "      <td>0</td>\n",
       "      <td>NaN</td>\n",
       "      <td>NaN</td>\n",
       "      <td>NaN</td>\n",
       "      <td>...</td>\n",
       "      <td>NaN</td>\n",
       "      <td>[]</td>\n",
       "      <td>Scott</td>\n",
       "      <td>dMeSxE7S6Yxhz3cBgd6Sjw</td>\n",
       "      <td>0</td>\n",
       "      <td>NaN</td>\n",
       "      <td>0</td>\n",
       "      <td>NaN</td>\n",
       "      <td>NaN</td>\n",
       "      <td>0</td>\n",
       "    </tr>\n",
       "    <tr>\n",
       "      <th>1</th>\n",
       "      <td>1</td>\n",
       "      <td>2015-01</td>\n",
       "      <td>NaN</td>\n",
       "      <td>1</td>\n",
       "      <td>NaN</td>\n",
       "      <td>NaN</td>\n",
       "      <td>0</td>\n",
       "      <td>NaN</td>\n",
       "      <td>NaN</td>\n",
       "      <td>NaN</td>\n",
       "      <td>...</td>\n",
       "      <td>NaN</td>\n",
       "      <td>[]</td>\n",
       "      <td>Diego</td>\n",
       "      <td>c-e0BxGy3eNtKzKDrrHyGw</td>\n",
       "      <td>0</td>\n",
       "      <td>NaN</td>\n",
       "      <td>0</td>\n",
       "      <td>NaN</td>\n",
       "      <td>NaN</td>\n",
       "      <td>0</td>\n",
       "    </tr>\n",
       "    <tr>\n",
       "      <th>2</th>\n",
       "      <td>2</td>\n",
       "      <td>2015-01</td>\n",
       "      <td>NaN</td>\n",
       "      <td>2</td>\n",
       "      <td>NaN</td>\n",
       "      <td>NaN</td>\n",
       "      <td>0</td>\n",
       "      <td>NaN</td>\n",
       "      <td>NaN</td>\n",
       "      <td>NaN</td>\n",
       "      <td>...</td>\n",
       "      <td>NaN</td>\n",
       "      <td>[]</td>\n",
       "      <td>Katie</td>\n",
       "      <td>tO-IKvmHn9kGobTcVweTeA</td>\n",
       "      <td>0</td>\n",
       "      <td>NaN</td>\n",
       "      <td>0</td>\n",
       "      <td>NaN</td>\n",
       "      <td>NaN</td>\n",
       "      <td>0</td>\n",
       "    </tr>\n",
       "    <tr>\n",
       "      <th>3</th>\n",
       "      <td>3</td>\n",
       "      <td>2015-01</td>\n",
       "      <td>NaN</td>\n",
       "      <td>9</td>\n",
       "      <td>NaN</td>\n",
       "      <td>NaN</td>\n",
       "      <td>0</td>\n",
       "      <td>NaN</td>\n",
       "      <td>NaN</td>\n",
       "      <td>NaN</td>\n",
       "      <td>...</td>\n",
       "      <td>NaN</td>\n",
       "      <td>[]</td>\n",
       "      <td>Ross</td>\n",
       "      <td>soPELsow5JAqNSYCUmntJg</td>\n",
       "      <td>2</td>\n",
       "      <td>NaN</td>\n",
       "      <td>1</td>\n",
       "      <td>NaN</td>\n",
       "      <td>NaN</td>\n",
       "      <td>0</td>\n",
       "    </tr>\n",
       "    <tr>\n",
       "      <th>4</th>\n",
       "      <td>4</td>\n",
       "      <td>2015-01</td>\n",
       "      <td>NaN</td>\n",
       "      <td>2</td>\n",
       "      <td>NaN</td>\n",
       "      <td>NaN</td>\n",
       "      <td>0</td>\n",
       "      <td>NaN</td>\n",
       "      <td>NaN</td>\n",
       "      <td>NaN</td>\n",
       "      <td>...</td>\n",
       "      <td>NaN</td>\n",
       "      <td>[]</td>\n",
       "      <td>Pam</td>\n",
       "      <td>RR6dZa6dkrcgjKvEnI-Myw</td>\n",
       "      <td>0</td>\n",
       "      <td>NaN</td>\n",
       "      <td>0</td>\n",
       "      <td>NaN</td>\n",
       "      <td>NaN</td>\n",
       "      <td>0</td>\n",
       "    </tr>\n",
       "  </tbody>\n",
       "</table>\n",
       "<p>5 rows × 22 columns</p>\n",
       "</div>"
      ],
      "text/plain": [
       "   Unnamed: 0 yelping_since  compliments_plain  review_count  \\\n",
       "0           0       2015-01                NaN             1   \n",
       "1           1       2015-01                NaN             1   \n",
       "2           2       2015-01                NaN             2   \n",
       "3           3       2015-01                NaN             9   \n",
       "4           4       2015-01                NaN             2   \n",
       "\n",
       "   compliments_cute  compliments_writer  fans  compliments_note  \\\n",
       "0               NaN                 NaN     0               NaN   \n",
       "1               NaN                 NaN     0               NaN   \n",
       "2               NaN                 NaN     0               NaN   \n",
       "3               NaN                 NaN     0               NaN   \n",
       "4               NaN                 NaN     0               NaN   \n",
       "\n",
       "   compliments_hot  compliments_cool      ...       compliments_more  elite  \\\n",
       "0              NaN               NaN      ...                    NaN     []   \n",
       "1              NaN               NaN      ...                    NaN     []   \n",
       "2              NaN               NaN      ...                    NaN     []   \n",
       "3              NaN               NaN      ...                    NaN     []   \n",
       "4              NaN               NaN      ...                    NaN     []   \n",
       "\n",
       "    name                 user_id votes_cool compliments_list  votes_funny  \\\n",
       "0  Scott  dMeSxE7S6Yxhz3cBgd6Sjw          0              NaN            0   \n",
       "1  Diego  c-e0BxGy3eNtKzKDrrHyGw          0              NaN            0   \n",
       "2  Katie  tO-IKvmHn9kGobTcVweTeA          0              NaN            0   \n",
       "3   Ross  soPELsow5JAqNSYCUmntJg          2              NaN            1   \n",
       "4    Pam  RR6dZa6dkrcgjKvEnI-Myw          0              NaN            0   \n",
       "\n",
       "   compliments_photos  compliments_funny  votes_useful  \n",
       "0                 NaN                NaN             0  \n",
       "1                 NaN                NaN             0  \n",
       "2                 NaN                NaN             0  \n",
       "3                 NaN                NaN             0  \n",
       "4                 NaN                NaN             0  \n",
       "\n",
       "[5 rows x 22 columns]"
      ]
     },
     "execution_count": 227,
     "metadata": {},
     "output_type": "execute_result"
    }
   ],
   "source": [
    "users.head()"
   ]
  },
  {
   "cell_type": "code",
   "execution_count": 228,
   "metadata": {
    "collapsed": false
   },
   "outputs": [
    {
     "data": {
      "text/plain": [
       "Index([u'Unnamed: 0', u'yelping_since', u'compliments_plain', u'review_count',\n",
       "       u'compliments_cute', u'compliments_writer', u'fans',\n",
       "       u'compliments_note', u'compliments_hot', u'compliments_cool',\n",
       "       u'compliments_profile', u'average_stars', u'compliments_more', u'elite',\n",
       "       u'name', u'user_id', u'votes_cool', u'compliments_list', u'votes_funny',\n",
       "       u'compliments_photos', u'compliments_funny', u'votes_useful'],\n",
       "      dtype='object')"
      ]
     },
     "execution_count": 228,
     "metadata": {},
     "output_type": "execute_result"
    }
   ],
   "source": [
    "users.columns"
   ]
  },
  {
   "cell_type": "code",
   "execution_count": 229,
   "metadata": {
    "collapsed": false
   },
   "outputs": [
    {
     "name": "stdout",
     "output_type": "stream",
     "text": [
      "<class 'pandas.core.frame.DataFrame'>\n",
      "RangeIndex: 144206 entries, 0 to 144205\n",
      "Data columns (total 22 columns):\n",
      "Unnamed: 0             144206 non-null int64\n",
      "yelping_since          144206 non-null object\n",
      "compliments_plain      47034 non-null float64\n",
      "review_count           144206 non-null int64\n",
      "compliments_cute       13133 non-null float64\n",
      "compliments_writer     33222 non-null float64\n",
      "fans                   144206 non-null int64\n",
      "compliments_note       39872 non-null float64\n",
      "compliments_hot        31748 non-null float64\n",
      "compliments_cool       41069 non-null float64\n",
      "compliments_profile    12368 non-null float64\n",
      "average_stars          144206 non-null float64\n",
      "compliments_more       25066 non-null float64\n",
      "elite                  144206 non-null object\n",
      "name                   144206 non-null object\n",
      "user_id                144206 non-null object\n",
      "votes_cool             144206 non-null int64\n",
      "compliments_list       7180 non-null float64\n",
      "votes_funny            144206 non-null int64\n",
      "compliments_photos     18759 non-null float64\n",
      "compliments_funny      30612 non-null float64\n",
      "votes_useful           144206 non-null int64\n",
      "dtypes: float64(12), int64(6), object(4)\n",
      "memory usage: 24.2+ MB\n"
     ]
    }
   ],
   "source": [
    "users.info()"
   ]
  },
  {
   "cell_type": "code",
   "execution_count": 230,
   "metadata": {
    "collapsed": false
   },
   "outputs": [
    {
     "data": {
      "text/plain": [
       "array(['2015-01', '2015-02', '2015-03', '2015-04', '2015-05', '2015-06',\n",
       "       '2015-07', '2015-08', '2015-09', '2015-10', '2015-11', '2015-12',\n",
       "       '2014-02', '2014-03', '2014-04', '2014-05', '2014-06', '2014-07',\n",
       "       '2014-08', '2014-09', '2014-10', '2014-11', '2014-12', '2013-04',\n",
       "       '2013-05', '2013-06', '2013-07', '2013-08', '2013-09', '2013-10',\n",
       "       '2013-11', '2013-12', '2014-01', '2012-07', '2012-08', '2012-09',\n",
       "       '2012-10', '2012-11', '2012-12', '2013-01', '2013-02', '2013-03',\n",
       "       '2011-10', '2011-11', '2011-12', '2012-01', '2012-02', '2012-03',\n",
       "       '2012-04', '2012-05', '2012-06', '2011-02', '2011-03', '2011-04',\n",
       "       '2011-05', '2011-06', '2011-07', '2011-08', '2011-09', '2010-04',\n",
       "       '2010-05', '2010-06', '2010-07', '2010-08', '2010-09', '2010-10',\n",
       "       '2010-11', '2010-12', '2011-01', '2009-02', '2009-03', '2009-04',\n",
       "       '2009-05', '2009-06', '2009-07', '2009-08', '2009-09', '2009-10',\n",
       "       '2009-11', '2009-12', '2010-01', '2010-02', '2010-03', '2004-10',\n",
       "       '2004-11', '2004-12', '2005-01', '2005-02', '2005-03', '2005-04',\n",
       "       '2005-05', '2005-06', '2005-07', '2005-08', '2005-09', '2005-10',\n",
       "       '2005-11', '2005-12', '2006-01', '2006-02', '2006-03', '2006-04',\n",
       "       '2006-05', '2006-06', '2006-07', '2006-08', '2006-09', '2006-10',\n",
       "       '2006-11', '2006-12', '2007-01', '2007-02', '2007-03', '2007-04',\n",
       "       '2007-05', '2007-06', '2007-07', '2007-08', '2007-09', '2007-10',\n",
       "       '2007-11', '2007-12', '2008-01', '2008-02', '2008-03', '2008-04',\n",
       "       '2008-05', '2008-06', '2008-07', '2008-08', '2008-09', '2008-10',\n",
       "       '2008-11', '2008-12', '2009-01'], dtype=object)"
      ]
     },
     "execution_count": 230,
     "metadata": {},
     "output_type": "execute_result"
    }
   ],
   "source": [
    "users['yelping_since'].unique()"
   ]
  },
  {
   "cell_type": "code",
   "execution_count": 231,
   "metadata": {
    "collapsed": true
   },
   "outputs": [],
   "source": [
    "#This is the number of years old the account is. I didn't include months.\n",
    "users['account_age'] = users['yelping_since'].map(lambda x: 2016 - int(x[:4]))"
   ]
  },
  {
   "cell_type": "code",
   "execution_count": 232,
   "metadata": {
    "collapsed": false
   },
   "outputs": [
    {
     "data": {
      "text/plain": [
       "array([ 1,  2,  3,  4,  5,  6,  7, 12, 11, 10,  9,  8])"
      ]
     },
     "execution_count": 232,
     "metadata": {},
     "output_type": "execute_result"
    }
   ],
   "source": [
    "users['account_age'].unique()"
   ]
  },
  {
   "cell_type": "code",
   "execution_count": 233,
   "metadata": {
    "collapsed": false
   },
   "outputs": [
    {
     "data": {
      "text/plain": [
       "array(['[]', '[2015]', '[2014, 2015]', '[2014]', '[2013, 2014, 2015]',\n",
       "       '[2013]', '[2013, 2014]', '[2012, 2013]',\n",
       "       '[2012, 2013, 2014, 2015]', '[2012, 2013, 2015]',\n",
       "       '[2012, 2013, 2014]', '[2012]', '[2013, 2015]',\n",
       "       '[2012, 2014, 2015]', '[2011, 2012]', '[2011, 2012, 2013, 2014]',\n",
       "       '[2011, 2012, 2013, 2014, 2015]', '[2011]', '[2011, 2012, 2013]',\n",
       "       '[2011, 2012, 2014, 2015]', '[2011, 2012, 2013, 2015]',\n",
       "       '[2011, 2012, 2015]', '[2011, 2014, 2015]', '[2012, 2015]',\n",
       "       '[2011, 2015]', '[2010, 2011, 2012, 2013, 2014, 2015]',\n",
       "       '[2010, 2011, 2012, 2013, 2014]', '[2010, 2011]', '[2010]',\n",
       "       '[2010, 2011, 2012, 2013]', '[2010, 2011, 2012]',\n",
       "       '[2011, 2013, 2014, 2015]', '[2010, 2015]',\n",
       "       '[2010, 2011, 2012, 2015]', '[2010, 2011, 2015]',\n",
       "       '[2010, 2014, 2015]', '[2011, 2013]',\n",
       "       '[2009, 2010, 2011, 2012, 2013, 2014, 2015]', '[2009, 2010]',\n",
       "       '[2010, 2011, 2013]', '[2009, 2010, 2011]', '[2009, 2010, 2013]',\n",
       "       '[2009, 2010, 2011, 2012, 2013]', '[2009, 2010, 2011, 2012]',\n",
       "       '[2009, 2010, 2012]', '[2010, 2011, 2014, 2015]',\n",
       "       '[2010, 2012, 2013, 2014, 2015]', '[2009]',\n",
       "       '[2009, 2010, 2011, 2012, 2013, 2014]', '[2009, 2010, 2014, 2015]',\n",
       "       '[2009, 2010, 2011, 2013]', '[2010, 2012]', '[2009, 2012]',\n",
       "       '[2010, 2012, 2015]', '[2011, 2013, 2014]',\n",
       "       '[2009, 2010, 2013, 2014]', '[2009, 2010, 2012, 2013, 2014, 2015]',\n",
       "       '[2010, 2011, 2012, 2013, 2015]', '[2009, 2010, 2012, 2013]',\n",
       "       '[2009, 2011]', '[2011, 2013, 2015]', '[2011, 2012, 2014]',\n",
       "       '[2010, 2013, 2014]', '[2010, 2011, 2012, 2014, 2015]',\n",
       "       '[2009, 2010, 2011, 2013, 2014, 2015]', '[2010, 2013, 2014, 2015]',\n",
       "       '[2009, 2012, 2013]', '[2010, 2012, 2013]',\n",
       "       '[2009, 2010, 2011, 2013, 2014]', '[2009, 2010, 2011, 2012, 2015]',\n",
       "       '[2009, 2010, 2011, 2012, 2014, 2015]', '[2010, 2014]',\n",
       "       '[2010, 2011, 2013, 2014, 2015]', '[2010, 2011, 2013, 2014]',\n",
       "       '[2010, 2011, 2014]', '[2010, 2012, 2013, 2014]', '[2005]',\n",
       "       '[2005, 2006, 2007, 2008, 2009, 2010, 2011, 2012, 2013, 2014, 2015]',\n",
       "       '[2006, 2007, 2008]', '[2008, 2009, 2010, 2011]',\n",
       "       '[2005, 2006, 2007, 2008, 2010, 2011, 2012]',\n",
       "       '[2006, 2007, 2008, 2009]', '[2005, 2006, 2007]',\n",
       "       '[2005, 2006, 2007, 2008, 2009, 2010, 2011, 2012]', '[2005, 2006]',\n",
       "       '[2006, 2007, 2009, 2010]', '[2006]',\n",
       "       '[2005, 2006, 2007, 2013, 2014, 2015]',\n",
       "       '[2006, 2007, 2008, 2009, 2010]',\n",
       "       '[2008, 2009, 2010, 2011, 2012, 2013]', '[2008]', '[2007]',\n",
       "       '[2008, 2009]', '[2007, 2014, 2015]',\n",
       "       '[2006, 2007, 2008, 2009, 2010, 2011, 2012, 2013, 2014, 2015]',\n",
       "       '[2006, 2007]', '[2005, 2006, 2007, 2008, 2009, 2010, 2011]',\n",
       "       '[2008, 2009, 2010, 2011, 2012, 2013, 2014, 2015]',\n",
       "       '[2005, 2006, 2007, 2008]',\n",
       "       '[2005, 2006, 2007, 2008, 2009, 2010, 2011, 2012, 2013, 2014]',\n",
       "       '[2007, 2008, 2009, 2014]',\n",
       "       '[2006, 2007, 2010, 2011, 2012, 2013, 2014, 2015]',\n",
       "       '[2007, 2008, 2009, 2010, 2011, 2012, 2013, 2014]',\n",
       "       '[2006, 2007, 2008, 2009, 2010, 2011]',\n",
       "       '[2005, 2006, 2007, 2008, 2009, 2011, 2012]',\n",
       "       '[2007, 2008, 2009, 2010, 2011, 2012, 2013, 2014, 2015]',\n",
       "       '[2007, 2008, 2009, 2010, 2011, 2012]',\n",
       "       '[2006, 2007, 2008, 2009, 2010, 2011, 2012]',\n",
       "       '[2005, 2006, 2007, 2008, 2009, 2010]',\n",
       "       '[2005, 2006, 2007, 2008, 2009, 2010, 2011, 2012, 2013]',\n",
       "       '[2007, 2008, 2009]', '[2006, 2007, 2012]',\n",
       "       '[2006, 2007, 2009, 2010, 2011, 2012, 2013, 2014, 2015]',\n",
       "       '[2006, 2007, 2008, 2013, 2014, 2015]',\n",
       "       '[2007, 2008, 2009, 2010, 2011]',\n",
       "       '[2006, 2008, 2009, 2010, 2011, 2012, 2013, 2014, 2015]',\n",
       "       '[2006, 2007, 2008, 2009, 2010, 2011, 2012, 2013]', '[2007, 2011]',\n",
       "       '[2005, 2006, 2007, 2008, 2009]', '[2007, 2008, 2009, 2010]',\n",
       "       '[2007, 2008]', '[2006, 2012, 2013, 2014, 2015]',\n",
       "       '[2007, 2008, 2009, 2010, 2011, 2012, 2013]',\n",
       "       '[2007, 2008, 2009, 2010, 2011, 2015]',\n",
       "       '[2006, 2010, 2011, 2012, 2013, 2014, 2015]',\n",
       "       '[2006, 2007, 2008, 2009, 2010, 2011, 2012, 2015]',\n",
       "       '[2008, 2009, 2013]', '[2006, 2008, 2010, 2011, 2012]',\n",
       "       '[2007, 2009, 2010, 2011, 2012, 2013, 2014, 2015]',\n",
       "       '[2006, 2007, 2008, 2011]', '[2006, 2007, 2009, 2010, 2011]',\n",
       "       '[2006, 2007, 2010]', '[2008, 2009, 2010]',\n",
       "       '[2006, 2007, 2012, 2013, 2014]',\n",
       "       '[2006, 2007, 2008, 2010, 2011, 2012]',\n",
       "       '[2008, 2009, 2010, 2011, 2012]', '[2006, 2015]',\n",
       "       '[2007, 2009, 2010, 2011, 2012]',\n",
       "       '[2007, 2008, 2010, 2011, 2012, 2013, 2014, 2015]',\n",
       "       '[2008, 2009, 2010, 2012, 2013]', '[2006, 2007, 2008, 2010]',\n",
       "       '[2008, 2009, 2010, 2011, 2012, 2013, 2014]', '[2007, 2008, 2010]',\n",
       "       '[2008, 2012, 2013, 2014, 2015]',\n",
       "       '[2006, 2007, 2008, 2009, 2010, 2011, 2012, 2013, 2014]',\n",
       "       '[2006, 2007, 2008, 2010, 2011, 2012, 2013, 2014, 2015]',\n",
       "       '[2006, 2007, 2011, 2012, 2013, 2014, 2015]', '[2008, 2010, 2011]',\n",
       "       '[2007, 2009, 2010]', '[2009, 2010, 2011, 2014, 2015]',\n",
       "       '[2008, 2013, 2014, 2015]', '[2007, 2009]', '[2008, 2010]',\n",
       "       '[2006, 2007, 2009, 2010, 2011, 2012]',\n",
       "       '[2006, 2007, 2008, 2009, 2010, 2011, 2013]',\n",
       "       '[2006, 2007, 2008, 2009, 2010, 2012, 2013]',\n",
       "       '[2006, 2007, 2008, 2009, 2014, 2015]',\n",
       "       '[2007, 2008, 2010, 2011, 2012]',\n",
       "       '[2006, 2007, 2008, 2009, 2012, 2013, 2014, 2015]', '[2007, 2012]',\n",
       "       '[2006, 2007, 2009]', '[2006, 2008, 2009, 2010]',\n",
       "       '[2006, 2007, 2008, 2009, 2010, 2012, 2013, 2014, 2015]',\n",
       "       '[2006, 2007, 2008, 2009, 2010, 2011, 2014, 2015]',\n",
       "       '[2007, 2008, 2010, 2011]', '[2009, 2010, 2011, 2015]',\n",
       "       '[2006, 2007, 2011, 2012]', '[2008, 2009, 2010, 2011, 2015]',\n",
       "       '[2006, 2007, 2008, 2009, 2010, 2011, 2013, 2014, 2015]',\n",
       "       '[2007, 2010, 2011, 2012, 2013, 2014]', '[2008, 2009, 2012]',\n",
       "       '[2007, 2009, 2010, 2011]', '[2007, 2008, 2012]',\n",
       "       '[2007, 2013, 2014]',\n",
       "       '[2007, 2008, 2009, 2010, 2012, 2013, 2014, 2015]',\n",
       "       '[2008, 2009, 2011]', '[2007, 2008, 2009, 2011]',\n",
       "       '[2007, 2008, 2010, 2011, 2012, 2013]',\n",
       "       '[2008, 2010, 2011, 2012, 2013]', '[2007, 2014]',\n",
       "       '[2006, 2007, 2009, 2014, 2015]',\n",
       "       '[2007, 2008, 2009, 2011, 2012, 2013, 2014]',\n",
       "       '[2007, 2008, 2009, 2010, 2012, 2013, 2014]',\n",
       "       '[2007, 2008, 2012, 2013, 2014, 2015]', '[2007, 2011, 2012, 2013]',\n",
       "       '[2008, 2009, 2010, 2012]', '[2007, 2008, 2013, 2014]',\n",
       "       '[2008, 2010, 2011, 2012, 2013, 2014]', '[2008, 2011, 2012]',\n",
       "       '[2007, 2008, 2015]', '[2007, 2009, 2010, 2012]',\n",
       "       '[2008, 2010, 2011, 2012, 2013, 2014, 2015]',\n",
       "       '[2007, 2008, 2009, 2010, 2011, 2013, 2014, 2015]', '[2008, 2012]',\n",
       "       '[2007, 2008, 2009, 2012, 2013, 2014, 2015]',\n",
       "       '[2008, 2009, 2010, 2013, 2014]', '[2007, 2008, 2013]',\n",
       "       '[2007, 2010]', '[2007, 2008, 2009, 2010, 2012, 2013]',\n",
       "       '[2007, 2008, 2010, 2011, 2012, 2015]',\n",
       "       '[2007, 2008, 2009, 2010, 2011, 2012, 2015]',\n",
       "       '[2007, 2008, 2009, 2010, 2014, 2015]',\n",
       "       '[2007, 2008, 2010, 2012, 2013, 2014, 2015]',\n",
       "       '[2007, 2009, 2010, 2011, 2012, 2013]',\n",
       "       '[2007, 2010, 2011, 2012, 2013]', '[2007, 2008, 2011, 2012]',\n",
       "       '[2008, 2009, 2010, 2012, 2013, 2014]',\n",
       "       '[2007, 2008, 2009, 2010, 2011, 2014, 2015]',\n",
       "       '[2007, 2012, 2013, 2014, 2015]', '[2009, 2014]',\n",
       "       '[2007, 2008, 2009, 2011, 2012]',\n",
       "       '[2007, 2008, 2009, 2010, 2011, 2012, 2013, 2015]',\n",
       "       '[2009, 2013, 2014, 2015]', '[2008, 2009, 2010, 2011, 2012, 2015]',\n",
       "       '[2007, 2010, 2012]', '[2009, 2015]', '[2008, 2009, 2011, 2012]',\n",
       "       '[2008, 2015]', '[2007, 2010, 2011, 2012]',\n",
       "       '[2008, 2009, 2010, 2013]', '[2008, 2010, 2012]',\n",
       "       '[2007, 2008, 2009, 2012, 2015]',\n",
       "       '[2007, 2008, 2009, 2010, 2011, 2013, 2014]', '[2007, 2010, 2011]',\n",
       "       '[2008, 2011, 2012, 2013, 2014, 2015]',\n",
       "       '[2007, 2008, 2009, 2014, 2015]', '[2008, 2009, 2010, 2014, 2015]',\n",
       "       '[2007, 2008, 2009, 2010, 2012]', '[2007, 2008, 2014]',\n",
       "       '[2007, 2008, 2009, 2010, 2011, 2013]', '[2007, 2008, 2009, 2012]',\n",
       "       '[2008, 2013, 2014]', '[2009, 2011, 2012, 2013, 2014, 2015]',\n",
       "       '[2009, 2010, 2013, 2014, 2015]',\n",
       "       '[2008, 2009, 2012, 2013, 2014, 2015]',\n",
       "       '[2008, 2009, 2010, 2011, 2013]', '[2009, 2010, 2015]',\n",
       "       '[2007, 2008, 2009, 2015]',\n",
       "       '[2008, 2009, 2010, 2011, 2013, 2014, 2015]',\n",
       "       '[2008, 2010, 2011, 2012]', '[2008, 2009, 2013, 2014]',\n",
       "       '[2008, 2009, 2010, 2012, 2013, 2014, 2015]',\n",
       "       '[2008, 2009, 2012, 2013, 2015]', '[2010, 2013]',\n",
       "       '[2008, 2009, 2010, 2013, 2014, 2015]',\n",
       "       '[2009, 2010, 2011, 2012, 2013, 2015]', '[2009, 2011, 2015]',\n",
       "       '[2008, 2014]', '[2008, 2009, 2010, 2011, 2014]',\n",
       "       '[2008, 2014, 2015]', '[2008, 2009, 2015]',\n",
       "       '[2010, 2012, 2014, 2015]', '[2008, 2010, 2011, 2012, 2014, 2015]',\n",
       "       '[2008, 2009, 2011, 2012, 2013, 2014, 2015]',\n",
       "       '[2009, 2011, 2014, 2015]', '[2009, 2010, 2011, 2012, 2014]',\n",
       "       '[2009, 2011, 2012]', '[2008, 2009, 2013, 2014, 2015]',\n",
       "       '[2008, 2009, 2012, 2013]', '[2009, 2010, 2012, 2013, 2014]',\n",
       "       '[2009, 2010, 2012, 2014]', '[2009, 2014, 2015]',\n",
       "       '[2010, 2011, 2012, 2014]', '[2009, 2010, 2014]'], dtype=object)"
      ]
     },
     "execution_count": 233,
     "metadata": {},
     "output_type": "execute_result"
    }
   ],
   "source": [
    "users['elite'].unique()"
   ]
  },
  {
   "cell_type": "code",
   "execution_count": 234,
   "metadata": {
    "collapsed": false
   },
   "outputs": [],
   "source": [
    "def count_elites(x):\n",
    "    if x == '[]':\n",
    "        return 0\n",
    "    else:\n",
    "        return len(x.replace('[]','').split(','))\n",
    "\n",
    "users['elite_count'] = users['elite'].map(count_elites)"
   ]
  },
  {
   "cell_type": "code",
   "execution_count": 235,
   "metadata": {
    "collapsed": false
   },
   "outputs": [
    {
     "data": {
      "text/plain": [
       "array([ 0,  1,  2,  3,  4,  5,  6,  7, 11,  8, 10,  9])"
      ]
     },
     "execution_count": 235,
     "metadata": {},
     "output_type": "execute_result"
    }
   ],
   "source": [
    "users['elite_count'].unique()"
   ]
  },
  {
   "cell_type": "code",
   "execution_count": 236,
   "metadata": {
    "collapsed": true
   },
   "outputs": [],
   "source": [
    "users['elite_bool'] = users['elite_count'].map(lambda x: 1 if x > 0  else 0)"
   ]
  },
  {
   "cell_type": "code",
   "execution_count": 237,
   "metadata": {
    "collapsed": false
   },
   "outputs": [
    {
     "name": "stdout",
     "output_type": "stream",
     "text": [
      "<class 'pandas.core.frame.DataFrame'>\n",
      "RangeIndex: 144206 entries, 0 to 144205\n",
      "Data columns (total 25 columns):\n",
      "Unnamed: 0             144206 non-null int64\n",
      "yelping_since          144206 non-null object\n",
      "compliments_plain      47034 non-null float64\n",
      "review_count           144206 non-null int64\n",
      "compliments_cute       13133 non-null float64\n",
      "compliments_writer     33222 non-null float64\n",
      "fans                   144206 non-null int64\n",
      "compliments_note       39872 non-null float64\n",
      "compliments_hot        31748 non-null float64\n",
      "compliments_cool       41069 non-null float64\n",
      "compliments_profile    12368 non-null float64\n",
      "average_stars          144206 non-null float64\n",
      "compliments_more       25066 non-null float64\n",
      "elite                  144206 non-null object\n",
      "name                   144206 non-null object\n",
      "user_id                144206 non-null object\n",
      "votes_cool             144206 non-null int64\n",
      "compliments_list       7180 non-null float64\n",
      "votes_funny            144206 non-null int64\n",
      "compliments_photos     18759 non-null float64\n",
      "compliments_funny      30612 non-null float64\n",
      "votes_useful           144206 non-null int64\n",
      "account_age            144206 non-null int64\n",
      "elite_count            144206 non-null int64\n",
      "elite_bool             144206 non-null int64\n",
      "dtypes: float64(12), int64(9), object(4)\n",
      "memory usage: 27.5+ MB\n"
     ]
    }
   ],
   "source": [
    "users.info()"
   ]
  },
  {
   "cell_type": "code",
   "execution_count": 243,
   "metadata": {
    "collapsed": false
   },
   "outputs": [
    {
     "data": {
      "text/plain": [
       "['Unnamed: 0',\n",
       " 'yelping_since',\n",
       " 'review_count',\n",
       " 'fans',\n",
       " 'average_stars',\n",
       " 'elite',\n",
       " 'name',\n",
       " 'user_id',\n",
       " 'votes_cool',\n",
       " 'votes_funny',\n",
       " 'votes_useful',\n",
       " 'account_age',\n",
       " 'elite_count',\n",
       " 'elite_bool']"
      ]
     },
     "execution_count": 243,
     "metadata": {},
     "output_type": "execute_result"
    }
   ],
   "source": [
    "cols_to_keep = [col for col in users.columns if np.sum(users[col].isnull()) == 0 ]\n",
    "cols_to_keep"
   ]
  },
  {
   "cell_type": "code",
   "execution_count": 253,
   "metadata": {
    "collapsed": false
   },
   "outputs": [],
   "source": [
    "X = users[['review_count', 'fans', 'average_stars', 'votes_cool', \n",
    "           'votes_funny', 'votes_useful', 'account_age']]\n",
    "y = users['elite_bool']"
   ]
  },
  {
   "cell_type": "code",
   "execution_count": 254,
   "metadata": {
    "collapsed": true
   },
   "outputs": [],
   "source": [
    "from sklearn.cross_validation import train_test_split\n",
    "\n",
    "X_train, X_test, y_train, y_test = train_test_split(X, y, test_size=0.33, stratify = y)"
   ]
  },
  {
   "cell_type": "code",
   "execution_count": null,
   "metadata": {
    "collapsed": true
   },
   "outputs": [],
   "source": [
    "params = {\n",
    "    'penalty':['l1', 'l2'],\n",
    "    'solver':['liblinear'],\n",
    "    'C': np.linspace(0.00002,1,100)\n",
    "}\n",
    "\n",
    "lr = LogisticRegression()\n",
    "lr_gs = GridSearchCV(lr, params, cv=3, verbose=1)\n",
    "gs_results = lr_gs.fit(X, y)"
   ]
  },
  {
   "cell_type": "markdown",
   "metadata": {},
   "source": [
    "<img src=\"http://imgur.com/GCAf1UX.png\" style=\"float: left; margin: 25px 15px 0px 0px; height: 25px\">\n",
    "\n",
    "## 5. Find something interesting on your own\n",
    "\n",
    "---\n",
    "\n",
    "You want to impress your superiors at Yelp by doing some investigation into the data on your own. You want to do classification, but you're not sure on what.\n",
    "\n",
    "1. Create a hypothesis or hypotheses about the data based on whatever you are interested in, as long as it is predicting a category of some kind (classification).\n",
    "2. Explore the data visually (ideally related to this hypothesis).\n",
    "3. Build one or more classification models to predict your target variable. **Your modeling should include gridsearching to find optimal model parameters.**\n",
    "4. Evaluate the performance of your model. Explain why your model may have chosen those specific parameters during the gridsearch process.\n",
    "5. Write up what the model tells you. Does it validate or invalidate your hypothesis? Write this up as if for a non-technical audience."
   ]
  },
  {
   "cell_type": "code",
   "execution_count": null,
   "metadata": {
    "collapsed": true
   },
   "outputs": [],
   "source": []
  },
  {
   "cell_type": "code",
   "execution_count": null,
   "metadata": {
    "collapsed": true
   },
   "outputs": [],
   "source": []
  },
  {
   "cell_type": "markdown",
   "metadata": {},
   "source": [
    "<img src=\"http://imgur.com/GCAf1UX.png\" style=\"float: left; margin: 25px 15px 0px 0px; height: 25px\">\n",
    "\n",
    "## 6. ROC and Precision-recall\n",
    "\n",
    "---\n",
    "\n",
    "Some categories have fewer overall businesses than others. Choose two categories of businesses to predict, one that makes your proportion of target classes as even as possible, and another that has very few businesses and thus makes the target varible imbalanced.\n",
    "\n",
    "1. Create two classification models predicting these categories. Optimize the models and choose variables as you see fit.\n",
    "- Make confusion matrices for your models. Describe the confusion matrices and explain what they tell you about your models' performance.\n",
    "- Make ROC curves for both models. What do the ROC curves describe and what do they tell you about your model?\n",
    "- Make Precision-Recall curves for the models. What do they describe? How do they compare to the ROC curves?\n",
    "- Explain when Precision-Recall may be preferable to ROC. Is that the case in either of your models?"
   ]
  },
  {
   "cell_type": "code",
   "execution_count": null,
   "metadata": {
    "collapsed": true
   },
   "outputs": [],
   "source": []
  }
 ],
 "metadata": {
  "anaconda-cloud": {},
  "kernelspec": {
   "display_name": "Python [dsi]",
   "language": "python",
   "name": "Python [dsi]"
  },
  "language_info": {
   "codemirror_mode": {
    "name": "ipython",
    "version": 2
   },
   "file_extension": ".py",
   "mimetype": "text/x-python",
   "name": "python",
   "nbconvert_exporter": "python",
   "pygments_lexer": "ipython2",
   "version": "2.7.12"
  }
 },
 "nbformat": 4,
 "nbformat_minor": 0
}
